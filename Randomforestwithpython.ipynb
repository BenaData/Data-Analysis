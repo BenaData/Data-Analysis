{
  "nbformat": 4,
  "nbformat_minor": 0,
  "metadata": {
    "colab": {
      "name": "Untitled3.ipynb",
      "provenance": [],
      "collapsed_sections": [],
      "authorship_tag": "ABX9TyP7YQvvhHH2KhH+Ue5uBnms"
    },
    "kernelspec": {
      "name": "python3",
      "display_name": "Python 3"
    }
  },
  "cells": [
    {
      "cell_type": "code",
      "metadata": {
        "id": "vc5c82cl5sF3"
      },
      "source": [
        "#the data used is the iris dataset avaibale in the scikit-learn library\r\n",
        "#the feature variables are the peta length, petal width, sepal length and sepal lengths of different leaves\r\n",
        "#the dataset has three posible classes in the lebal variable namely setosa, versicolor and virginia"
      ],
      "execution_count": 3,
      "outputs": []
    },
    {
      "cell_type": "code",
      "metadata": {
        "id": "5EyrTJKzoQaB"
      },
      "source": [
        "#random forest model building with python\r\n",
        "#importing the scikit-learn dataset library\r\n",
        "from sklearn import datasets\r\n",
        "\r\n",
        "#loading the dataset\r\n",
        "iris = datasets.load_iris()"
      ],
      "execution_count": 4,
      "outputs": []
    },
    {
      "cell_type": "code",
      "metadata": {
        "colab": {
          "base_uri": "https://localhost:8080/"
        },
        "id": "3cb9c5T4COE6",
        "outputId": "cbfad241-a20d-4ad2-95c3-ffbede4a49a2"
      },
      "source": [
        "#printing the names of label classes to confirm the dataset\r\n",
        "print(iris.target_names)\r\n",
        "\r\n",
        "#printing the names of the features\r\n",
        "print(iris.feature_names)"
      ],
      "execution_count": 13,
      "outputs": [
        {
          "output_type": "stream",
          "text": [
            "['setosa' 'versicolor' 'virginica']\n",
            "['sepal length (cm)', 'sepal width (cm)', 'petal length (cm)', 'petal width (cm)']\n"
          ],
          "name": "stdout"
        }
      ]
    },
    {
      "cell_type": "code",
      "metadata": {
        "colab": {
          "base_uri": "https://localhost:8080/"
        },
        "id": "au_oCYUuoPZk",
        "outputId": "578fdcb3-d3b6-4288-abe6-870f90c0f338"
      },
      "source": [
        "#exploring the data\r\n",
        "#printing the first five records of the feature variables\r\n",
        "print(iris.data[0:5])"
      ],
      "execution_count": 21,
      "outputs": [
        {
          "output_type": "stream",
          "text": [
            "[[5.1 3.5 1.4 0.2]\n",
            " [4.9 3.  1.4 0.2]\n",
            " [4.7 3.2 1.3 0.2]\n",
            " [4.6 3.1 1.5 0.2]\n",
            " [5.  3.6 1.4 0.2]]\n"
          ],
          "name": "stdout"
        }
      ]
    },
    {
      "cell_type": "code",
      "metadata": {
        "colab": {
          "base_uri": "https://localhost:8080/"
        },
        "id": "27ZqY_Szp3L1",
        "outputId": "2c76bb2d-9627-4c01-d5af-08788eba9072"
      },
      "source": [
        "#printing the the lables. 0 for setosa, 1 for versicolor and 2 for virginica \r\n",
        "print(iris.target)"
      ],
      "execution_count": 12,
      "outputs": [
        {
          "output_type": "stream",
          "text": [
            "[0 0 0 0 0 0 0 0 0 0 0 0 0 0 0 0 0 0 0 0 0 0 0 0 0 0 0 0 0 0 0 0 0 0 0 0 0\n",
            " 0 0 0 0 0 0 0 0 0 0 0 0 0 1 1 1 1 1 1 1 1 1 1 1 1 1 1 1 1 1 1 1 1 1 1 1 1\n",
            " 1 1 1 1 1 1 1 1 1 1 1 1 1 1 1 1 1 1 1 1 1 1 1 1 1 1 2 2 2 2 2 2 2 2 2 2 2\n",
            " 2 2 2 2 2 2 2 2 2 2 2 2 2 2 2 2 2 2 2 2 2 2 2 2 2 2 2 2 2 2 2 2 2 2 2 2 2\n",
            " 2 2]\n"
          ],
          "name": "stdout"
        }
      ]
    },
    {
      "cell_type": "code",
      "metadata": {
        "colab": {
          "base_uri": "https://localhost:8080/",
          "height": 204
        },
        "id": "K9h7zerbqNtV",
        "outputId": "ed0a663b-05eb-4682-ca5d-da8ce201367a"
      },
      "source": [
        "#creating a dataframe for the dataset\r\n",
        "import pandas as pd\r\n",
        "dataset=pd.DataFrame({\r\n",
        "    'sepal length':iris.data[:,0],\r\n",
        "    'sepal width':iris.data[:,1],\r\n",
        "    'petal length':iris.data[:,2],\r\n",
        "    'petal width':iris.data[:,3],\r\n",
        "    'species':iris.target\r\n",
        "})\r\n",
        "dataset.head()"
      ],
      "execution_count": 17,
      "outputs": [
        {
          "output_type": "execute_result",
          "data": {
            "text/html": [
              "<div>\n",
              "<style scoped>\n",
              "    .dataframe tbody tr th:only-of-type {\n",
              "        vertical-align: middle;\n",
              "    }\n",
              "\n",
              "    .dataframe tbody tr th {\n",
              "        vertical-align: top;\n",
              "    }\n",
              "\n",
              "    .dataframe thead th {\n",
              "        text-align: right;\n",
              "    }\n",
              "</style>\n",
              "<table border=\"1\" class=\"dataframe\">\n",
              "  <thead>\n",
              "    <tr style=\"text-align: right;\">\n",
              "      <th></th>\n",
              "      <th>sepal length</th>\n",
              "      <th>sepal width</th>\n",
              "      <th>petal length</th>\n",
              "      <th>petal width</th>\n",
              "      <th>species</th>\n",
              "    </tr>\n",
              "  </thead>\n",
              "  <tbody>\n",
              "    <tr>\n",
              "      <th>0</th>\n",
              "      <td>5.1</td>\n",
              "      <td>3.5</td>\n",
              "      <td>1.4</td>\n",
              "      <td>0.2</td>\n",
              "      <td>0</td>\n",
              "    </tr>\n",
              "    <tr>\n",
              "      <th>1</th>\n",
              "      <td>4.9</td>\n",
              "      <td>3.0</td>\n",
              "      <td>1.4</td>\n",
              "      <td>0.2</td>\n",
              "      <td>0</td>\n",
              "    </tr>\n",
              "    <tr>\n",
              "      <th>2</th>\n",
              "      <td>4.7</td>\n",
              "      <td>3.2</td>\n",
              "      <td>1.3</td>\n",
              "      <td>0.2</td>\n",
              "      <td>0</td>\n",
              "    </tr>\n",
              "    <tr>\n",
              "      <th>3</th>\n",
              "      <td>4.6</td>\n",
              "      <td>3.1</td>\n",
              "      <td>1.5</td>\n",
              "      <td>0.2</td>\n",
              "      <td>0</td>\n",
              "    </tr>\n",
              "    <tr>\n",
              "      <th>4</th>\n",
              "      <td>5.0</td>\n",
              "      <td>3.6</td>\n",
              "      <td>1.4</td>\n",
              "      <td>0.2</td>\n",
              "      <td>0</td>\n",
              "    </tr>\n",
              "  </tbody>\n",
              "</table>\n",
              "</div>"
            ],
            "text/plain": [
              "   sepal length  sepal width  petal length  petal width  species\n",
              "0           5.1          3.5           1.4          0.2        0\n",
              "1           4.9          3.0           1.4          0.2        0\n",
              "2           4.7          3.2           1.3          0.2        0\n",
              "3           4.6          3.1           1.5          0.2        0\n",
              "4           5.0          3.6           1.4          0.2        0"
            ]
          },
          "metadata": {
            "tags": []
          },
          "execution_count": 17
        }
      ]
    },
    {
      "cell_type": "code",
      "metadata": {
        "id": "jHiHSTtNrcnR"
      },
      "source": [
        "#importing the train_test_split function\r\n",
        "from sklearn.model_selection import train_test_split\r\n",
        "\r\n",
        "\r\n",
        "x = data[[\"sepal length\", \"sepal width\", \"petal length\", \"petal width\"]] #these are the feature variables\r\n",
        "y = data[\"species\"] # this is the label variable\r\n",
        "\r\n",
        "\r\n",
        "#spliting the data into training dataset and testing dataset\r\n",
        "x_train, x_test, y_train, y_test = train_test_split(x,y, test_size = 0.3) # Here 70% of data is use for training and 30% for testing"
      ],
      "execution_count": 23,
      "outputs": []
    },
    {
      "cell_type": "code",
      "metadata": {
        "id": "hk5TLHXXtdli"
      },
      "source": [
        "#training the random forest model\r\n",
        "\r\n",
        "\r\n",
        "#importing the random forest classifier\r\n",
        "from sklearn.ensemble import RandomForestClassifier\r\n",
        "\r\n",
        "#creating a Gaussian Classifier\r\n",
        "clf = RandomForestClassifier(n_estimators=100)\r\n",
        "\r\n",
        "\r\n",
        "#training the model using the trainin dataset  y_pred=clf.predict(X_test)\r\n",
        "clf.fit(x_train, y_train)\r\n",
        "\r\n",
        "\r\n",
        "y_pred=clf.predict(x_test)"
      ],
      "execution_count": 28,
      "outputs": []
    },
    {
      "cell_type": "code",
      "metadata": {
        "colab": {
          "base_uri": "https://localhost:8080/"
        },
        "id": "EMOEw3d4vjkk",
        "outputId": "4e7f97e7-874f-484d-e969-5e021bc7f122"
      },
      "source": [
        "#we now check the accuracy of te model by comparing the actual values of the model with the predicted values\r\n",
        "\r\n",
        "#importing scikit-learn metrics module that is used for accuracy prediction\r\n",
        "from sklearn import metrics\r\n",
        "\r\n",
        "#cheking the model accuracy\r\n",
        "\r\n",
        "print('The Accuracy is:',metrics.accuracy_score(y_test,y_pred))"
      ],
      "execution_count": 31,
      "outputs": [
        {
          "output_type": "stream",
          "text": [
            "The Accuracy is: 0.9111111111111111\n"
          ],
          "name": "stdout"
        }
      ]
    },
    {
      "cell_type": "code",
      "metadata": {
        "colab": {
          "base_uri": "https://localhost:8080/"
        },
        "id": "ARaDsidRxnwd",
        "outputId": "5aabf708-cdda-410f-aad2-906ccd4fedaa"
      },
      "source": [
        "# we can make prediction for a sigle item with given characteristics\r\n",
        "#for example, when sepal length = 3, sepal width = 5, petal length = 4 and petal width = 2\r\n",
        "#the prediction for the type of flower is\r\n",
        "clf.predict([[3, 5, 4, 2]])"
      ],
      "execution_count": 35,
      "outputs": [
        {
          "output_type": "execute_result",
          "data": {
            "text/plain": [
              "array([1])"
            ]
          },
          "metadata": {
            "tags": []
          },
          "execution_count": 35
        }
      ]
    },
    {
      "cell_type": "code",
      "metadata": {
        "id": "ks1p_xdOyIis"
      },
      "source": [
        "#as shown above, the prediction is array 1 which we assigned to virsicolor type of flower"
      ],
      "execution_count": 36,
      "outputs": []
    },
    {
      "cell_type": "code",
      "metadata": {
        "id": "bJeXd0X3yyyh"
      },
      "source": [
        "#we now determine the most important features used in the classification\r\n",
        "#THE STEPS INVOLVED ARE:\r\n",
        "# 1) creating the random forest\r\n",
        "# 2) using the feature importance variable to see the feature importance scores\r\n",
        "# 3) visualizing the importance using seaborn library"
      ],
      "execution_count": 37,
      "outputs": []
    },
    {
      "cell_type": "code",
      "metadata": {
        "colab": {
          "base_uri": "https://localhost:8080/"
        },
        "id": "5yxLYon10jVO",
        "outputId": "08c770af-b310-463b-99d3-93e3e50b44da"
      },
      "source": [
        "#importing the library\r\n",
        "from sklearn.ensemble import RandomForestClassifier\r\n",
        "\r\n",
        "#Creating a Gaussian Classifier\r\n",
        "clf = RandomForestClassifier(n_estimators=100)\r\n",
        "\r\n",
        "#training the model using the training datasets y_pred=clf.predict(x_test)\r\n",
        "clf.fit(x_train,y_train)\r\n"
      ],
      "execution_count": 40,
      "outputs": [
        {
          "output_type": "execute_result",
          "data": {
            "text/plain": [
              "RandomForestClassifier(bootstrap=True, ccp_alpha=0.0, class_weight=None,\n",
              "                       criterion='gini', max_depth=None, max_features='auto',\n",
              "                       max_leaf_nodes=None, max_samples=None,\n",
              "                       min_impurity_decrease=0.0, min_impurity_split=None,\n",
              "                       min_samples_leaf=1, min_samples_split=2,\n",
              "                       min_weight_fraction_leaf=0.0, n_estimators=100,\n",
              "                       n_jobs=None, oob_score=False, random_state=None,\n",
              "                       verbose=0, warm_start=False)"
            ]
          },
          "metadata": {
            "tags": []
          },
          "execution_count": 40
        }
      ]
    },
    {
      "cell_type": "code",
      "metadata": {
        "colab": {
          "base_uri": "https://localhost:8080/"
        },
        "id": "PgCBSgKW2EZk",
        "outputId": "b3883d24-00f7-4af3-cf61-9a462f267534"
      },
      "source": [
        "import pandas as pd\r\n",
        "feature_importance = pd.Series(clf.feature_importances_,index=iris.feature_names).sort_values(ascending=False)\r\n",
        "feature_importance"
      ],
      "execution_count": 46,
      "outputs": [
        {
          "output_type": "execute_result",
          "data": {
            "text/plain": [
              "petal length (cm)    0.460921\n",
              "petal width (cm)     0.426925\n",
              "sepal length (cm)    0.087942\n",
              "sepal width (cm)     0.024211\n",
              "dtype: float64"
            ]
          },
          "metadata": {
            "tags": []
          },
          "execution_count": 46
        }
      ]
    },
    {
      "cell_type": "code",
      "metadata": {
        "id": "c1j0GUJ59c4-"
      },
      "source": [
        "#as shown above, petal length is the most important feature for the classification and the sepal width is the least important\r\n"
      ],
      "execution_count": 47,
      "outputs": []
    },
    {
      "cell_type": "code",
      "metadata": {
        "id": "BCLWEy719p4l"
      },
      "source": [
        "#visualizing the most important features\r\n",
        "#we use a combination of matplotlib and seaorn libraries"
      ],
      "execution_count": null,
      "outputs": []
    },
    {
      "cell_type": "code",
      "metadata": {
        "colab": {
          "base_uri": "https://localhost:8080/",
          "height": 312
        },
        "id": "Gu6p89J394Ru",
        "outputId": "67393620-6f64-444a-d4e8-e14b82554efd"
      },
      "source": [
        "#importing the libraries\r\n",
        "import matplotlib.pyplot as plt\r\n",
        "import seaborn as sns\r\n",
        "%matplotlib inline\r\n",
        "\r\n",
        "#creating a barplot\r\n",
        "sns.barplot(x=feature_importance, y=feature_importance.index)\r\n",
        "\r\n",
        "#adding labels to the graph\r\n",
        "plt.xlabel('Feature Importance Score')\r\n",
        "plt.ylabel('Features')\r\n",
        "plt.title(\"Visualization of Important Features\")\r\n",
        "plt.legend()\r\n",
        "plt.show()"
      ],
      "execution_count": 51,
      "outputs": [
        {
          "output_type": "stream",
          "text": [
            "No handles with labels found to put in legend.\n"
          ],
          "name": "stderr"
        },
        {
          "output_type": "display_data",
          "data": {
            "image/png": "[encoded data removed]",
            "text/plain": [
              "<Figure size 432x288 with 1 Axes>"
            ]
          },
          "metadata": {
            "tags": [],
            "needs_background": "light"
          }
        }
      ]
    },
    {
      "cell_type": "code",
      "metadata": {
        "id": "fboCdW1A-vr0"
      },
      "source": [
        "#buliding the model after removing the least importanmt feature(sepal width)\r\n",
        "\r\n",
        "#again, we import the train_test_split function\r\n",
        "from sklearn.model_selection import train_test_split\r\n",
        "\r\n",
        "#spliting the data into features and label variables\r\n",
        "x=data[['petal length', 'petal width','sepal length']]  # here i have demoved feature \"sepal length\"\r\n",
        "y=data['species']\r\n",
        "\r\n",
        "#spliting the dataset into training and testing dataset\r\n",
        "\r\n",
        "x_train, x_test, y_train, y_test = train_test_split(x, y, test_size=0.70, random_state=5) # here I have set 70% of data for training and for 30% testing"
      ],
      "execution_count": 59,
      "outputs": []
    },
    {
      "cell_type": "code",
      "metadata": {
        "colab": {
          "base_uri": "https://localhost:8080/"
        },
        "id": "lWFA6Z3nA56D",
        "outputId": "92477b9f-a08e-4cd1-b28d-ecea77b794da"
      },
      "source": [
        "#building the model\r\n",
        "#importing the random forest classifier\r\n",
        "from sklearn.ensemble import RandomForestClassifier\r\n",
        "\r\n",
        "#creating the Gaussian Classifier\r\n",
        "clf = RandomForestClassifier(n_estimators=100)\r\n",
        "\r\n",
        "#training the model using the training sets y_pred = clf.predict(x_test)\r\n",
        "clf.fit(x_train,y_train)\r\n",
        "\r\n",
        "#making the predictions on the test set\r\n",
        "y_pred=clf.predict(x_test)\r\n",
        "\r\n",
        "#CALCULATING THE ACCURACY OF THE MODEL ON PREDICTION ON TESTING DATASET\r\n",
        "#importing scikit-learn metrics module to do the calculation of accuracy\r\n",
        "from sklearn import metrics\r\n",
        "\r\n",
        "#accuracy level calculation\r\n",
        "print(\"The attained accuracy using the most important featrures is: \",metrics.accuracy_score(y_test, y_pred))"
      ],
      "execution_count": 64,
      "outputs": [
        {
          "output_type": "stream",
          "text": [
            "The attained accuracy using the most important featrures is:  0.9523809523809523\n"
          ],
          "name": "stdout"
        }
      ]
    },
    {
      "cell_type": "code",
      "metadata": {
        "id": "Y8RURTOKDakJ"
      },
      "source": [
        "#as seen above, the accuracy of prediction using the most important features (0.9523809523809523) is higher than the accuracy with of the prediction when all features were used ( 0.9111111111111111)\r\n",
        "#the increase in accuracy is because the least important feature (sepal width) may have contained misleading data and noise. \r\n",
        "#also, the training time was shortened by reducing the features\r\n",
        "#job done"
      ],
      "execution_count": 65,
      "outputs": []
    }
  ]
}