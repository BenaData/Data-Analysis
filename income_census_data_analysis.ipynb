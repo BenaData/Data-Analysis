{
  "nbformat": 4,
  "nbformat_minor": 0,
  "metadata": {
    "colab": {
      "provenance": [],
      "collapsed_sections": [],
      "authorship_tag": "ABX9TyPIwFv76m5VgI7Cb5eViVqo",
      "include_colab_link": true
    },
    "kernelspec": {
      "name": "python3",
      "display_name": "Python 3"
    },
    "language_info": {
      "name": "python"
    }
  },
  "cells": [
    {
      "cell_type": "markdown",
      "metadata": {
        "id": "view-in-github",
        "colab_type": "text"
      },
      "source": [
        "<a href=\"https://colab.research.google.com/github/BenaData/Data-Analysis/blob/master/income_census_data_analysis.ipynb\" target=\"_parent\"><img src=\"https://colab.research.google.com/assets/colab-badge.svg\" alt=\"Open In Colab\"/></a>"
      ]
    },
    {
      "cell_type": "markdown",
      "source": [
        "**Objective**\n",
        "\n",
        "The purpose of this project is to perform exploratory data analysis on the income census data for aldults obtained from from UCI public database to answer the following questions.\n",
        "\n",
        "i)\tWhich level of education had majority of the employees reached?\n",
        "\n",
        "ii)\tHow many employees were married to a civilian spouse?\n",
        "\n",
        "iii) What as the distribution of employees by work-class?\n",
        "\n",
        "iv)\tWhich race had people with highest average capital gains?\n",
        "\n",
        "v) what was the age of the oldest person in every work class?"
      ],
      "metadata": {
        "id": "Rl5qNV7ZYbTe"
      }
    },
    {
      "cell_type": "code",
      "source": [
        "#importing neccessary libraries\n",
        "import numpy as np\n",
        "import pandas as pd\n",
        "import seaborn as sns\n",
        "import matplotlib.pyplot as plt\n",
        "%matplotlib inline"
      ],
      "metadata": {
        "id": "UF046igIYdHc"
      },
      "execution_count": null,
      "outputs": []
    },
    {
      "cell_type": "code",
      "source": [
        "#importing the income data\n",
        "url=\"https://archive.ics.uci.edu/ml/machine-learning-databases/adult/adult.data\"\n",
        "columns = [\"age\",\"work-class\",\"fnlwgt\",\"education\",\"education-num\",\"marital-status\",\"occupation\",\"relationship\",\"race\",\"sex\",\"capital-gain\",\"capital-loss\",\"hours-per-week\",\"native-country\",\"income\"]\n",
        "data = pd.read_csv(url, names=columns, sep=\",\", na_values=\"?\", skipinitialspace=True)"
      ],
      "metadata": {
        "id": "HBZcxWzWOS01"
      },
      "execution_count": 2,
      "outputs": []
    },
    {
      "cell_type": "markdown",
      "source": [
        "**DATA CLEANING**"
      ],
      "metadata": {
        "id": "4dYbWBtKyhuL"
      }
    },
    {
      "cell_type": "code",
      "source": [
        "#checking the first five rows of the dataset\n",
        "data.head()"
      ],
      "metadata": {
        "colab": {
          "base_uri": "https://localhost:8080/",
          "height": 313
        },
        "id": "is8SV9aEOhA7",
        "outputId": "46d03cb4-ea21-44cd-a5f4-33dae25c1cb1"
      },
      "execution_count": 3,
      "outputs": [
        {
          "output_type": "execute_result",
          "data": {
            "text/plain": [
              "   age        work-class  fnlwgt  education  education-num  \\\n",
              "0   39         State-gov   77516  Bachelors             13   \n",
              "1   50  Self-emp-not-inc   83311  Bachelors             13   \n",
              "2   38           Private  215646    HS-grad              9   \n",
              "3   53           Private  234721       11th              7   \n",
              "4   28           Private  338409  Bachelors             13   \n",
              "\n",
              "       marital-status         occupation   relationship   race     sex  \\\n",
              "0       Never-married       Adm-clerical  Not-in-family  White    Male   \n",
              "1  Married-civ-spouse    Exec-managerial        Husband  White    Male   \n",
              "2            Divorced  Handlers-cleaners  Not-in-family  White    Male   \n",
              "3  Married-civ-spouse  Handlers-cleaners        Husband  Black    Male   \n",
              "4  Married-civ-spouse     Prof-specialty           Wife  Black  Female   \n",
              "\n",
              "   capital-gain  capital-loss  hours-per-week native-country income  \n",
              "0          2174             0              40  United-States  <=50K  \n",
              "1             0             0              13  United-States  <=50K  \n",
              "2             0             0              40  United-States  <=50K  \n",
              "3             0             0              40  United-States  <=50K  \n",
              "4             0             0              40           Cuba  <=50K  "
            ],
            "text/html": [
              "\n",
              "  <div id=\"df-68ac0c2d-3e20-4f9a-b179-4c027e814ddb\">\n",
              "    <div class=\"colab-df-container\">\n",
              "      <div>\n",
              "<style scoped>\n",
              "    .dataframe tbody tr th:only-of-type {\n",
              "        vertical-align: middle;\n",
              "    }\n",
              "\n",
              "    .dataframe tbody tr th {\n",
              "        vertical-align: top;\n",
              "    }\n",
              "\n",
              "    .dataframe thead th {\n",
              "        text-align: right;\n",
              "    }\n",
              "</style>\n",
              "<table border=\"1\" class=\"dataframe\">\n",
              "  <thead>\n",
              "    <tr style=\"text-align: right;\">\n",
              "      <th></th>\n",
              "      <th>age</th>\n",
              "      <th>work-class</th>\n",
              "      <th>fnlwgt</th>\n",
              "      <th>education</th>\n",
              "      <th>education-num</th>\n",
              "      <th>marital-status</th>\n",
              "      <th>occupation</th>\n",
              "      <th>relationship</th>\n",
              "      <th>race</th>\n",
              "      <th>sex</th>\n",
              "      <th>capital-gain</th>\n",
              "      <th>capital-loss</th>\n",
              "      <th>hours-per-week</th>\n",
              "      <th>native-country</th>\n",
              "      <th>income</th>\n",
              "    </tr>\n",
              "  </thead>\n",
              "  <tbody>\n",
              "    <tr>\n",
              "      <th>0</th>\n",
              "      <td>39</td>\n",
              "      <td>State-gov</td>\n",
              "      <td>77516</td>\n",
              "      <td>Bachelors</td>\n",
              "      <td>13</td>\n",
              "      <td>Never-married</td>\n",
              "      <td>Adm-clerical</td>\n",
              "      <td>Not-in-family</td>\n",
              "      <td>White</td>\n",
              "      <td>Male</td>\n",
              "      <td>2174</td>\n",
              "      <td>0</td>\n",
              "      <td>40</td>\n",
              "      <td>United-States</td>\n",
              "      <td>&lt;=50K</td>\n",
              "    </tr>\n",
              "    <tr>\n",
              "      <th>1</th>\n",
              "      <td>50</td>\n",
              "      <td>Self-emp-not-inc</td>\n",
              "      <td>83311</td>\n",
              "      <td>Bachelors</td>\n",
              "      <td>13</td>\n",
              "      <td>Married-civ-spouse</td>\n",
              "      <td>Exec-managerial</td>\n",
              "      <td>Husband</td>\n",
              "      <td>White</td>\n",
              "      <td>Male</td>\n",
              "      <td>0</td>\n",
              "      <td>0</td>\n",
              "      <td>13</td>\n",
              "      <td>United-States</td>\n",
              "      <td>&lt;=50K</td>\n",
              "    </tr>\n",
              "    <tr>\n",
              "      <th>2</th>\n",
              "      <td>38</td>\n",
              "      <td>Private</td>\n",
              "      <td>215646</td>\n",
              "      <td>HS-grad</td>\n",
              "      <td>9</td>\n",
              "      <td>Divorced</td>\n",
              "      <td>Handlers-cleaners</td>\n",
              "      <td>Not-in-family</td>\n",
              "      <td>White</td>\n",
              "      <td>Male</td>\n",
              "      <td>0</td>\n",
              "      <td>0</td>\n",
              "      <td>40</td>\n",
              "      <td>United-States</td>\n",
              "      <td>&lt;=50K</td>\n",
              "    </tr>\n",
              "    <tr>\n",
              "      <th>3</th>\n",
              "      <td>53</td>\n",
              "      <td>Private</td>\n",
              "      <td>234721</td>\n",
              "      <td>11th</td>\n",
              "      <td>7</td>\n",
              "      <td>Married-civ-spouse</td>\n",
              "      <td>Handlers-cleaners</td>\n",
              "      <td>Husband</td>\n",
              "      <td>Black</td>\n",
              "      <td>Male</td>\n",
              "      <td>0</td>\n",
              "      <td>0</td>\n",
              "      <td>40</td>\n",
              "      <td>United-States</td>\n",
              "      <td>&lt;=50K</td>\n",
              "    </tr>\n",
              "    <tr>\n",
              "      <th>4</th>\n",
              "      <td>28</td>\n",
              "      <td>Private</td>\n",
              "      <td>338409</td>\n",
              "      <td>Bachelors</td>\n",
              "      <td>13</td>\n",
              "      <td>Married-civ-spouse</td>\n",
              "      <td>Prof-specialty</td>\n",
              "      <td>Wife</td>\n",
              "      <td>Black</td>\n",
              "      <td>Female</td>\n",
              "      <td>0</td>\n",
              "      <td>0</td>\n",
              "      <td>40</td>\n",
              "      <td>Cuba</td>\n",
              "      <td>&lt;=50K</td>\n",
              "    </tr>\n",
              "  </tbody>\n",
              "</table>\n",
              "</div>\n",
              "      <button class=\"colab-df-convert\" onclick=\"convertToInteractive('df-68ac0c2d-3e20-4f9a-b179-4c027e814ddb')\"\n",
              "              title=\"Convert this dataframe to an interactive table.\"\n",
              "              style=\"display:none;\">\n",
              "        \n",
              "  <svg xmlns=\"http://www.w3.org/2000/svg\" height=\"24px\"viewBox=\"0 0 24 24\"\n",
              "       width=\"24px\">\n",
              "    <path d=\"M0 0h24v24H0V0z\" fill=\"none\"/>\n",
              "    <path d=\"M18.56 5.44l.94 2.06.94-2.06 2.06-.94-2.06-.94-.94-2.06-.94 2.06-2.06.94zm-11 1L8.5 8.5l.94-2.06 2.06-.94-2.06-.94L8.5 2.5l-.94 2.06-2.06.94zm10 10l.94 2.06.94-2.06 2.06-.94-2.06-.94-.94-2.06-.94 2.06-2.06.94z\"/><path d=\"M17.41 7.96l-1.37-1.37c-.4-.4-.92-.59-1.43-.59-.52 0-1.04.2-1.43.59L10.3 9.45l-7.72 7.72c-.78.78-.78 2.05 0 2.83L4 21.41c.39.39.9.59 1.41.59.51 0 1.02-.2 1.41-.59l7.78-7.78 2.81-2.81c.8-.78.8-2.07 0-2.86zM5.41 20L4 18.59l7.72-7.72 1.47 1.35L5.41 20z\"/>\n",
              "  </svg>\n",
              "      </button>\n",
              "      \n",
              "  <style>\n",
              "    .colab-df-container {\n",
              "      display:flex;\n",
              "      flex-wrap:wrap;\n",
              "      gap: 12px;\n",
              "    }\n",
              "\n",
              "    .colab-df-convert {\n",
              "      background-color: #E8F0FE;\n",
              "      border: none;\n",
              "      border-radius: 50%;\n",
              "      cursor: pointer;\n",
              "      display: none;\n",
              "      fill: #1967D2;\n",
              "      height: 32px;\n",
              "      padding: 0 0 0 0;\n",
              "      width: 32px;\n",
              "    }\n",
              "\n",
              "    .colab-df-convert:hover {\n",
              "      background-color: #E2EBFA;\n",
              "      box-shadow: 0px 1px 2px rgba(60, 64, 67, 0.3), 0px 1px 3px 1px rgba(60, 64, 67, 0.15);\n",
              "      fill: #174EA6;\n",
              "    }\n",
              "\n",
              "    [theme=dark] .colab-df-convert {\n",
              "      background-color: #3B4455;\n",
              "      fill: #D2E3FC;\n",
              "    }\n",
              "\n",
              "    [theme=dark] .colab-df-convert:hover {\n",
              "      background-color: #434B5C;\n",
              "      box-shadow: 0px 1px 3px 1px rgba(0, 0, 0, 0.15);\n",
              "      filter: drop-shadow(0px 1px 2px rgba(0, 0, 0, 0.3));\n",
              "      fill: #FFFFFF;\n",
              "    }\n",
              "  </style>\n",
              "\n",
              "      <script>\n",
              "        const buttonEl =\n",
              "          document.querySelector('#df-68ac0c2d-3e20-4f9a-b179-4c027e814ddb button.colab-df-convert');\n",
              "        buttonEl.style.display =\n",
              "          google.colab.kernel.accessAllowed ? 'block' : 'none';\n",
              "\n",
              "        async function convertToInteractive(key) {\n",
              "          const element = document.querySelector('#df-68ac0c2d-3e20-4f9a-b179-4c027e814ddb');\n",
              "          const dataTable =\n",
              "            await google.colab.kernel.invokeFunction('convertToInteractive',\n",
              "                                                     [key], {});\n",
              "          if (!dataTable) return;\n",
              "\n",
              "          const docLinkHtml = 'Like what you see? Visit the ' +\n",
              "            '<a target=\"_blank\" href=https://colab.research.google.com/notebooks/data_table.ipynb>data table notebook</a>'\n",
              "            + ' to learn more about interactive tables.';\n",
              "          element.innerHTML = '';\n",
              "          dataTable['output_type'] = 'display_data';\n",
              "          await google.colab.output.renderOutput(dataTable, element);\n",
              "          const docLink = document.createElement('div');\n",
              "          docLink.innerHTML = docLinkHtml;\n",
              "          element.appendChild(docLink);\n",
              "        }\n",
              "      </script>\n",
              "    </div>\n",
              "  </div>\n",
              "  "
            ]
          },
          "metadata": {},
          "execution_count": 3
        }
      ]
    },
    {
      "cell_type": "code",
      "source": [
        "#descriptive statistics summary of the data\n",
        "#only the numerical varibles appear in the summary statistics\n",
        "data.describe()"
      ],
      "metadata": {
        "id": "VyfhASuEOweh"
      },
      "execution_count": 5,
      "outputs": []
    },
    {
      "cell_type": "code",
      "source": [
        "#checking the dimensions of the data\n",
        "data.shape"
      ],
      "metadata": {
        "colab": {
          "base_uri": "https://localhost:8080/"
        },
        "id": "L5M5k1bTPMnB",
        "outputId": "409ced1e-0018-43f7-c3ee-36f42b850ab7"
      },
      "execution_count": 7,
      "outputs": [
        {
          "output_type": "execute_result",
          "data": {
            "text/plain": [
              "(32561, 15)"
            ]
          },
          "metadata": {},
          "execution_count": 7
        }
      ]
    },
    {
      "cell_type": "code",
      "source": [
        "#checking the existence of null values\n",
        "data.isnull().sum()"
      ],
      "metadata": {
        "colab": {
          "base_uri": "https://localhost:8080/"
        },
        "id": "uNHNfVJSPeeo",
        "outputId": "9815e13b-ace0-4087-b875-435f83562d98"
      },
      "execution_count": 9,
      "outputs": [
        {
          "output_type": "execute_result",
          "data": {
            "text/plain": [
              "age                  0\n",
              "work-class        1836\n",
              "fnlwgt               0\n",
              "education            0\n",
              "education-num        0\n",
              "marital-status       0\n",
              "occupation        1843\n",
              "relationship         0\n",
              "race                 0\n",
              "sex                  0\n",
              "capital-gain         0\n",
              "capital-loss         0\n",
              "hours-per-week       0\n",
              "native-country     583\n",
              "income               0\n",
              "dtype: int64"
            ]
          },
          "metadata": {},
          "execution_count": 9
        }
      ]
    },
    {
      "cell_type": "code",
      "source": [
        "#dropping the rows with null values\n",
        "df=data.dropna()"
      ],
      "metadata": {
        "id": "MbIhQJqFPxk5"
      },
      "execution_count": 37,
      "outputs": []
    },
    {
      "cell_type": "code",
      "source": [
        "#checking if the null values are droped\n",
        "df.isna().sum()"
      ],
      "metadata": {
        "colab": {
          "base_uri": "https://localhost:8080/"
        },
        "id": "LROvGDwhP7Dj",
        "outputId": "b43fcbcb-d268-47dd-e0ac-13f405c60fac"
      },
      "execution_count": 38,
      "outputs": [
        {
          "output_type": "execute_result",
          "data": {
            "text/plain": [
              "age               0\n",
              "work-class        0\n",
              "fnlwgt            0\n",
              "education         0\n",
              "education-num     0\n",
              "marital-status    0\n",
              "occupation        0\n",
              "relationship      0\n",
              "race              0\n",
              "sex               0\n",
              "capital-gain      0\n",
              "capital-loss      0\n",
              "hours-per-week    0\n",
              "native-country    0\n",
              "income            0\n",
              "dtype: int64"
            ]
          },
          "metadata": {},
          "execution_count": 38
        }
      ]
    },
    {
      "cell_type": "code",
      "source": [
        "#checking the number of rows in the remaining data\n",
        "df.shape"
      ],
      "metadata": {
        "colab": {
          "base_uri": "https://localhost:8080/"
        },
        "id": "bhh0-ZsNQf0O",
        "outputId": "238c6ceb-a0d4-4152-fc9c-93c4a66472e4"
      },
      "execution_count": 39,
      "outputs": [
        {
          "output_type": "execute_result",
          "data": {
            "text/plain": [
              "(30162, 15)"
            ]
          },
          "metadata": {},
          "execution_count": 39
        }
      ]
    },
    {
      "cell_type": "code",
      "source": [
        "#checking the data types\n",
        "df.dtypes"
      ],
      "metadata": {
        "colab": {
          "base_uri": "https://localhost:8080/"
        },
        "id": "WZE9DWQ3Q0j5",
        "outputId": "927a67bb-f846-412e-9aaf-132f0ff51eb1"
      },
      "execution_count": 40,
      "outputs": [
        {
          "output_type": "execute_result",
          "data": {
            "text/plain": [
              "age                int64\n",
              "work-class        object\n",
              "fnlwgt             int64\n",
              "education         object\n",
              "education-num      int64\n",
              "marital-status    object\n",
              "occupation        object\n",
              "relationship      object\n",
              "race              object\n",
              "sex               object\n",
              "capital-gain       int64\n",
              "capital-loss       int64\n",
              "hours-per-week     int64\n",
              "native-country    object\n",
              "income            object\n",
              "dtype: object"
            ]
          },
          "metadata": {},
          "execution_count": 40
        }
      ]
    },
    {
      "cell_type": "code",
      "source": [
        "cat_arr = np.array(pd.Categorical(df['relationship']).categories)\n",
        "cat_arr"
      ],
      "metadata": {
        "colab": {
          "base_uri": "https://localhost:8080/"
        },
        "id": "2rkIQh6-SbsZ",
        "outputId": "63074f81-0da9-4f32-a7dd-526fffba141f"
      },
      "execution_count": 41,
      "outputs": [
        {
          "output_type": "execute_result",
          "data": {
            "text/plain": [
              "array(['Husband', 'Not-in-family', 'Other-relative', 'Own-child',\n",
              "       'Unmarried', 'Wife'], dtype=object)"
            ]
          },
          "metadata": {},
          "execution_count": 41
        }
      ]
    },
    {
      "cell_type": "markdown",
      "source": [
        "**EXPLORATORY DATA ANALYSIS**"
      ],
      "metadata": {
        "id": "Z9SOVua9ynRB"
      }
    },
    {
      "cell_type": "markdown",
      "source": [
        "**1) Which level of education had majority of the employees reached?**"
      ],
      "metadata": {
        "id": "jzpOIO0aat6G"
      }
    },
    {
      "cell_type": "code",
      "source": [
        "df['education'].value_counts()"
      ],
      "metadata": {
        "colab": {
          "base_uri": "https://localhost:8080/"
        },
        "id": "_V5RR_8RUp-V",
        "outputId": "a3c9ed43-fa21-418d-a5ba-f744bcba01d3"
      },
      "execution_count": 42,
      "outputs": [
        {
          "output_type": "execute_result",
          "data": {
            "text/plain": [
              "HS-grad         9840\n",
              "Some-college    6678\n",
              "Bachelors       5044\n",
              "Masters         1627\n",
              "Assoc-voc       1307\n",
              "11th            1048\n",
              "Assoc-acdm      1008\n",
              "10th             820\n",
              "7th-8th          557\n",
              "Prof-school      542\n",
              "9th              455\n",
              "12th             377\n",
              "Doctorate        375\n",
              "5th-6th          288\n",
              "1st-4th          151\n",
              "Preschool         45\n",
              "Name: education, dtype: int64"
            ]
          },
          "metadata": {},
          "execution_count": 42
        }
      ]
    },
    {
      "cell_type": "markdown",
      "source": [
        "**INSIGHT**\n",
        "Most employees were high school graduates(9840). Very few employees(45) had preschool as their highest level of education"
      ],
      "metadata": {
        "id": "Jyk8sXRxYAvX"
      }
    },
    {
      "cell_type": "markdown",
      "source": [
        "**ii) How many employees were married to a civilian spouse?**"
      ],
      "metadata": {
        "id": "MhtNbC3Ma7jp"
      }
    },
    {
      "cell_type": "code",
      "source": [
        "df['marital-status'].value_counts()"
      ],
      "metadata": {
        "colab": {
          "base_uri": "https://localhost:8080/"
        },
        "id": "W4wv5EIxWO5S",
        "outputId": "0355b4d5-d738-4111-bab1-eb7444f8e83a"
      },
      "execution_count": 43,
      "outputs": [
        {
          "output_type": "execute_result",
          "data": {
            "text/plain": [
              "Married-civ-spouse       14065\n",
              "Never-married             9726\n",
              "Divorced                  4214\n",
              "Separated                  939\n",
              "Widowed                    827\n",
              "Married-spouse-absent      370\n",
              "Married-AF-spouse           21\n",
              "Name: marital-status, dtype: int64"
            ]
          },
          "metadata": {},
          "execution_count": 43
        }
      ]
    },
    {
      "cell_type": "markdown",
      "source": [
        "**INSIGHT** 14065 employees were maried to civilian spouses."
      ],
      "metadata": {
        "id": "-mRPkaUwbATR"
      }
    },
    {
      "cell_type": "markdown",
      "source": [
        "**iii) What as the distribution of employees by work-class?**"
      ],
      "metadata": {
        "id": "srsxND1Rism0"
      }
    },
    {
      "cell_type": "code",
      "source": [
        "df.groupby(\"sex\")[\"sex\"].count()"
      ],
      "metadata": {
        "colab": {
          "base_uri": "https://localhost:8080/"
        },
        "id": "-y6kDxhCVe8R",
        "outputId": "1037bd1a-ec79-4e00-8183-5c956a2757e2"
      },
      "execution_count": 47,
      "outputs": [
        {
          "output_type": "execute_result",
          "data": {
            "text/plain": [
              "sex\n",
              "Female     9782\n",
              "Male      20380\n",
              "Name: sex, dtype: int64"
            ]
          },
          "metadata": {},
          "execution_count": 47
        }
      ]
    },
    {
      "cell_type": "markdown",
      "source": [
        "**INSIGHT** Most of the employees were male(20380) compared to female (20380)"
      ],
      "metadata": {
        "id": "WZFL1mm3rlUC"
      }
    },
    {
      "cell_type": "markdown",
      "source": [
        "**iv)\tWhich race had people with highest average capital gains?**"
      ],
      "metadata": {
        "id": "SmbV0O0zsO_4"
      }
    },
    {
      "cell_type": "code",
      "source": [
        "df.groupby(\"race\")[\"capital-gain\"].mean()"
      ],
      "metadata": {
        "colab": {
          "base_uri": "https://localhost:8080/"
        },
        "id": "41gD87g-sZSj",
        "outputId": "298f3b0a-366d-4496-c147-7a0c5943d372"
      },
      "execution_count": 50,
      "outputs": [
        {
          "output_type": "execute_result",
          "data": {
            "text/plain": [
              "race\n",
              "Amer-Indian-Eskimo     660.290210\n",
              "Asian-Pac-Islander    1304.375419\n",
              "Black                  604.722045\n",
              "Other                 1060.653680\n",
              "White                 1142.651024\n",
              "Name: capital-gain, dtype: float64"
            ]
          },
          "metadata": {},
          "execution_count": 50
        }
      ]
    },
    {
      "cell_type": "markdown",
      "source": [
        "**INSIGHT** The Asian-Pac-Islander had the highest average capital gains with 1304.375419 while the blacks had the lowest (604.722045)."
      ],
      "metadata": {
        "id": "97SYDfaztUwN"
      }
    },
    {
      "cell_type": "markdown",
      "source": [
        "**v) which work class had young people?**"
      ],
      "metadata": {
        "id": "ODoCCMXctlR7"
      }
    },
    {
      "cell_type": "code",
      "source": [
        "df.groupby(\"work-class\")[\"age\"].mean()"
      ],
      "metadata": {
        "colab": {
          "base_uri": "https://localhost:8080/"
        },
        "id": "Y6PEfwk6t8W0",
        "outputId": "fd07c272-7598-4c1c-9bad-e449cddebb73"
      },
      "execution_count": 53,
      "outputs": [
        {
          "output_type": "execute_result",
          "data": {
            "text/plain": [
              "work-class\n",
              "Federal-gov         42.577943\n",
              "Local-gov           41.743106\n",
              "Private             36.794355\n",
              "Self-emp-inc        46.027933\n",
              "Self-emp-not-inc    45.011605\n",
              "State-gov           39.362002\n",
              "Without-pay         47.785714\n",
              "Name: age, dtype: float64"
            ]
          },
          "metadata": {},
          "execution_count": 53
        }
      ]
    },
    {
      "cell_type": "markdown",
      "source": [
        "**INSIGHT**\n",
        "The figure below shows the average age of people in each work class. According to the figure, people working in the private sector were the youngest.\n",
        "\n",
        "\n",
        "![state.png](data:image/png;base64,iVBORw0KGgoAAAANSUhEUgAAAbAAAADZCAYAAABBwmUMAAAAAXNSR0IArs4c6QAAAARnQU1BAACxjwv8YQUAAAAJcEhZcwAAFiUAABYlAUlSJPAAAFkESURBVHhe7Z0J3FXT3viXXuGluqh7G2jwhqJBmt6oS6UoQuESJZUSShcZGrg3RcqQ0IAGGqlXqCvSJN3Cm1IkGd4o3CbqT+pe5Dr/8/2112k9+9nnPOc5Zz/Drt/389mf5zn77LPO2vustX7j3r/DYnGMoiiKokSMEt5fRVEURYkUKsAURVGUSKICTFEURYkkKsAURVGUSKICTFEURYkkKsAURVGUSKICTFEURYkkKsAURVGUSKICTFEURYkkKsAURVGUSKICTFEURYkkKsAURVGUSHLQCbB//etf5tZbbzWXXXaZ+X//7/95e4sGvp9+/Nd//Vdie+ihh7x3FUVRlGxQC0xRFEWJJCrACpDjjjvOvPTSS+aLL74wq1evNvXq1fPeURRFUbJFBZiiKIoSSbIWYNu2bTPt2rVLGdv5v//7P/PHP/7RjB071ttjzC+//GL+9re/mUsuuURiQ6eddpq5/vrrzYcffmj8NTb/53/+Rz5PO1999ZX585//LMefeeaZ5qmnnjI//fSTd2RyduzYYa6++mr5DN+bTR3P3377zfz973831113nfTj1FNPlf+D+p4fuCaLFy9OtMt1ufDCC82kSZPMP//5T++oA3DeL774YuIacm5cm88//9w7Iif8Vg8//LD57//+bzn+3HPPNWPGjDG7d+/2jlAURYkOWQuwo48+2hx//PEiIH7++Wdvb0727Nljvv/+e3PSSSfJaxbjgQMHymL70UcfyT4+++abb5orrrjCzJ49O1AQvPXWW+ZPf/qTCCCO/+GHH0RwPvfccykFB33juz755BM5HoF72GGHee/mj3//+9/miSeeECGDEKMfv/76q/w/ePBgOc9MmTNnjunZs2eiXaDP999/v3n00Ufluy0IO/bfddddiWvI9eDaIJRIZnFB8NPncePGmW+//Vb2ff3119LuG2+8Ia8VRVGiRNYC7MgjjzR/+MMfzI8//igLOTz77LPm0ksvNdu3b5fXCCwW5N///vfyet68eRIbuvjii82KFSvMxo0bzaeffioL7zHHHCMWxz/+8Q851sLrBx54QKyMJUuWyGdee+01EYpvv/22fH8QCK8777xT4lC037p164yFF7DYY0meccYZZvr06WLtYBkifM8777ys2j7qqKPM3XffLedDm5zjokWLTIMGDUSobdmyxTty//VYvny5ueaaa0SAcX705dVXXzWnn366d9QBiMHx/ujRo+Uvx/M5BFrp0qW9oxRFUaJDKAKsUqVKotVjFaD5f/DBB2bDhg1m06ZNcgyLbfny5c2xxx5r9u7dK4tyrVq1TP/+/U3FihVl0S9ZsqRp06aNpMBjdQS5wRBEWD/VqlWTzyC8EGhYeK51Yvnuu+/MvffeK4s1C/fZZ5/tvZMTXJS41Pyb3y3KuS1YsEDOZcSIEeass84y//Ef/2FKlChhqlatanr37i3nmCkI9F69epkKFSpIm5wj/WjUqJF8t7XKAMv3d7/7nVm/fr0IOyxQ+oLwuuGGG8x//ud/ekfuByv58MMPN++8807i9gLauOCCC+S6K4qiRI1QkjgqV64sAmznzp0iNIiptGrVyixbtkwWVt7D+ipbtqwIOV7XqVPHlCtXzmthPyzYNWvWlP9px0/9+vXNEUcc4b3aLzwfeeQRsebI+HMh3oM1s2rVKhE2CIFsIeaEK44YEgIrbGxMCzcqcTUrSInz+UGIcn5YZe3bt5fr/fjjj0v/gtypzZo1M3369DEzZ84UQd6pUye5bsksV0VRlOJOKAKsSpUqEvvBEsIawILo0KGDWbduncRl2M8xuMgsCB+sjIKCPnTr1k2sDhbtVDc1E1fDSvNvxJeCQIiG3XcsrL/85S/yne+//37CHZsKBBGuS9yAJ598sgi65s2bmwEDBuRK+sA669u3r8QRsXwRXHfccYdp3LixCLJUMURFUZTiSCirMJYVrjOEBBYPbj0sLAQXrkSsBCwGBBgLaalSpWSR9ltZLKK4DxE6CLxswep47LHHxBIkfhaUyZcfEFxYkgjmIAsxGxCYCCPiXcTZUASsIL3xxhu9o3Jj3YBPP/20xLlIApk1a5YIqiBw2Xbv3t3MnTtXYom1a9cWwffNN994RyiKokSDUAQY7jtiLGvWrBEBhPBioSfRgaw43HlYRLgISRjABYcQIKV769atIrhwnxGLGjVqlLj7atSo4bWeHcSpBg0aJAs2Fk42QgxhgXAm7nTPPfeYjz/+WGJv9J/zQBBkmoWIBYa1ioDh2mHh0RYuxddff9076gAoAMTovvzyy0T8D6uWa0siDMqDy4QJE6StXbt2Jawtkm8aNmyYK76mKIoSBUIRYCQMEBMiUQLriZgYlhbuqRdeeMGsXLlSBBggxHDZsdDiumratKmpXr26JB/g2sLKyTYZwoXvw52J8EKIDRkyJGMhRls825B70rCWSMc/5ZRTpP+cBwkerivOTQ7Bslq7dq0IObuPhBWEB3D9iPGRRchf3ucvLsXNmzfLMS779u2Ttsh8pA8cz98ePXqIYOKzLggu2kJg0V+Ox/rCckPIn3DCCd6RiqIo0SAUAYbmjxsRsLqwAIAFktgMr7EsLCywpKLfcsstIuyAjLqOHTvKop8sWzBTEKbcxHzzzTeLe43Ej0yFGH0n5oQFZhNOOH8y+RCOmQperC7cnLRDeygCCJbx48fLvVp+sAR5D2HK8cC15JoS80NIueBaREGwfaZ9hByJH9xP5s9aVBRFKe4cFrcYNHqvKIqiRI5wU+kURVEUpZBQAaYoiqJEEhVgiqIoSiRRAaYoiqJEEhVgiqIoSiRRAaYoiqJEEhVgiqIoSiRRAaYoiqJEEhVgiqIoSiRRAaYoiqJEEhVgiqIoSiSJtACzT3v/3//9X29P8YL6aDy9nj7ajRIoiqIoSvaEJsAQIu5C7W48MZ0CjYqiFC3UjqMOX6p5SaWGSZMmSakejqP0EYVhsy3iGqTQuZuriKZaT+zmliNySxcl2/zKI+fDeXF+vH/uuedKiaK8KlXw/p///Gf5DOfjr/b+22+/mffee0+qX5x22mly3IUXXijXNNMqGEow6kIsQCj0Sc0zqipTLblevXreO4pSNFDt+7nnnktaPofac506dZISOxRLhW+//dY8+eSTsmjv3LlT9kUdzpMSQ5wX5wdff/21CLlUhW8p3jFlyhQpMpvsGjLfb7/9djN//vxEoVgK/XJNBw8enBC6SvaELsCef/75RCl8u/3973+XumCKohQdn3/+udSWo8DrlVde6e3NCXXpqBNHzTsqjm/cuNEsWrRICrK+8847Upw2W2688cZcawQblpCF/4OOYZs2bZrUGKSIrBUiFMkNOpZtxIgRcnyzZs3kWKxQ2kCoDB061Hz00UdyHFXOEWoonYsXL5Zj/XANKAJ7ww03mFatWnl7c0L9wUsuuUSK3mLhsqE42Gv4j3/8wztSyZYis8AwsxFsaHunnnqqmNpoeF999ZV3RE6suY+Zj0nO8SNHjvTezQ3tDBw4UAo/cjwDaunSpfK9LgwuXCm4INC6cCEweegTLgD/YPvll19kcF933XVF7h6w/bXXxL/5XSb+axLkMuEYXEc33XRT4PkwyevUqWPGjBmTo/q0Urzht2ThpSBr3759k1oPRx99tLn33nvNBRdcYI466iipQs5YYS7AunXr5G9R8eOPP4oFVKtWLdO8eXNvb3K2bt0qxzOmGffw/fffiyBmTUDwcc5AMVrGPYVk33rrrYT1ZNmxY4dYbLTVrVs3uTZBnHTSSebOO++UKuslSpSQjWrpXFOEG5sSDkUiwNCAcGNcf/31opH8+uuvMlj+9re/mUsvvTRXUgaaI4KOwYOZDxy/fft2+d8PiyzHv/DCC+aHH36QfWhZ3bt3N6NHj5bv94OgYvCy6ONSoE+4AFjwGfCWOXPmiJaG8PW7B9Bug9ouCFiQcHXQX3tNUvH222/LtXWviXWZ8DswOeGEE04wLVu2NGvXrs2lTCCw+L1KlSolkzjZBFaKF/xuKGgoXsSNEGKZUqVKFe+/omHVqlVmyZIlMr+xFlPBeS9YsMBs2rTJdOnSJSG0mTu48RBcfmFSunRpUV6xyFwFjnmNAsA8YZ2wQi8d+CwxMbxT7du3L/JreDARugCjdL9rBbC5wVb48MMPRRidf/75YhXhpkBIoSkdf/zxItzs4MHimTBhgiymrrn/6aefmr/+9a9yjAvChjL5RxxxhLRHu7TP92ApMYjY5+eJJ56Q75g4caK8Tx8ZbAhDJoAFrfTuu+8WgYD15rpYEGpbtmzxjixYmBBz586ViYxQcV0gv/vd7+Q877rrLjkWgcz5AZYT145+r1ixwlx88cWiMLzyyivyPhO6bdu2Zs+ePdKuC8Fq3CLnnHOO/K5KNMDaGDVqlBkwYIBp3Lixtzd9WICXL19uypcvH0ocF6vfrg2tW7eWpJJvvvnGezc5zG3WhkaNGonXJC9Q0GbMmCHzvnbt2t5eI/OjQoUKMuYRcPv27RNhh0LMWvPaa695Rx4AxRXXImtO9erVvb3JYb1j3eMcsb66du0qcxVLVi2w8CgSC4yFEUHFAos2gibPj4qPunPnzmbDhg0J6wqhgrBgf8eOHROaT8mSJQO1IIQNCzmDh/Zol/b5HjQnLCva94M7AuukRYsW8hmsDCbJ3r17c7gSWPB79eolEwDXgHWxMKkYtH63Q35IlqUVlC2GJsg14HgWFsAFQnwDIetaTwh9FjGuSZs2beRz9LtixYqmf//+4o4hyYRzBb6zbt26Iqx2794t+8AKdtpAQVCKP4wThBcWc7t27fJtNbOwv/zyyzI3+vXrZ2rUqOG9Ew4oUsTbLr/8cpnnqUBBZO1AEDDWU0G/8ehw/qwb7ngtU6aM7GO89+7dW84JoYTrkHiZTeqwMO5R/AgbEHfLBNaG4cOHi3L9008/eXuVbCmUJA4mkDXfWeDZR4YTQsO/WGNlYcXYbCf+4t47/fTT09JcaJeBadNc3Q3hQ3s2u8qlZs2aCUFgQRjQVze4zOB78cUXzRVXXCGuBts2WmVhgoBlUqAZ7tq1S/bxl4UG4V+uXDnZB8QPCWKfccYZuRYwFgImL5MWa9fuwwpbs2aNnD+ghWNpEvfjt1CKP/xmkydPlnFB3Cs/bi9ACPCbP/DAA2LZMx/yKwBd3KxcNpQyhFaPHj1EeZs6dWoOt50L43P69OkiZM4++2xvb3IQjMyFiy66SBQ0P4xvrDnaO/zww2XjfwSMjVVxrvSHsMOJJ54oVlQ6axCw3rHucZ4IwIULF4prHmHN+qGEQ6FbYCRRYAXlF6yKdMik7XRBYBB3wnLEygv7u/wT3G5BWZy48XCN4CZt2LChCFH+8hqrzBW6wPXD8koX2idWgpuRhQwhiBWH2zebGIpSeGA9Y7GwgPqVRRQuFEN+T14TI3Nhns6ePVvSwVm4C8L1hQcDTwYeDRQjFK9kHgxCAMy5q666Kk/rC8GNex03OJZdkLcA4YQgRCh+9tlnsvE/3g6uG24/lD6Uab6XOUh2pr1+CEW+g1gx4QP2+WP3Fq4bSiIp9Ch/xPFYS5TsKXQBhmZSqVIl+SHRvvyLNRuDicUYjjzySBlI27Ztk9cWNKOgAWMDpMSygtpmY1JmAp/FrcaAJS0WDdK2SWpwYYJbkPPH5Vm5cmXZx1+E65AhQ3Jo21hrWJ5YVH6IK6Ctct1cJcEmc/AbkfRBSjXuGE3eOPjBEidGTbwHy61Pnz4F6jLm+9gYp0FC0mYSMh7TiX0RIkAgo8jhCk8Xa3EilMjQzY/Clw60x/lh7SG8lewpkquIdYCQevDBB8Wdh8aUDOI0aDfct4EmhGZInOuWW24Ra8VPtWrVJM0bfzNaU5iaDm2xmNMnMqAYhAgAXALc2FiYkOaLwCIwjxsRYco+BKnfVYS2SGovixKZlTZozXW85557zPr160UwuanVTDTcLAgutmXLlmnyRsRIZtFbhQslhSQGXpNODlgtw4YNEwvtvvvukwzVdCwvlBtiRMztV199VcZXXjDvGVuMQRKLGINkAbrQDn3kfawv//t+aJOYHeDyTKfvzGsyifGukHXMuLeCEs8H64j/+jFnSMMnqYX4Mfv8Xg8LfSJJhUQq5imCGMVcyZ4iEWBkQmHaE2Rl0GKuW9Oczc1axF3FgELQEXdiQDEAsECYXH6IY3GPBkkMTCgWb7ftoISIdOG+DtwITFDrTuAvVg939vtxH2+D1YZm52Zg+bMz8wNuFNrDBUQfuC60SVyOIDeWk11EEHQksBBnwBVkg9ZcRyxKbmrld/BDXLBJkyYioMl6xGWpyRsHNyhiWDu48hjXdly5W5DnA+WJhZ5YFVZMUKIC8475Z9th3pNYwhjETYkQ9Vv3NpOQsWq9MqkgyQihzVjFLZkMzsH2gzWC43Eh4tFAKcxvvNDFnff2PFH+yA/AXUqMTQmHIhFgaPpodwRMWXwxqZPBgOb+LbQ0rB40F5IxGCTJ7oTnfifeJ4BLymxY8P0EtMnCox828Dt+/Hi5B6ww4RqQlMH54Y61Gh1xOeIeLAhYTcA1RGEgaM0CYo8ltZjfwO9ytLCPiU26Md/D9ylKELjcEDLMEeZlOjFrjkVoMb6Y3/4xiAKGkovymo71hRuSxA2+O13rC1Dw6AcCZuzYsaZs2bLeO+FgzxNFEHdsuv1S8uaw+CDRxylEDKw24hNMbNwSuDQtuCuYxDxNATcRWrSiKMrBiEYSIwjZY1hZCCsercNfID5IsgvuVSDupSiKcrCiFlgEIXGE+9yIOSQDPzvBeAL5iqIoByMqwCIKCRnE+UgoIYOK2BexLRJk8LeT3KEJF4qiHMyoAFMURVEiicbAFEVRlEiiAkxRFEWJJCrAFEVRlEiiAkxRFEWJJCrAFEVRlEiiAkxRFEWJJCrAFEVRlEhyyAuwoDL+Dz30kPeuoiiKUlwJTYDZUgm6+CtK8YXnZj788MOiqKUqLUQ5FIq22tpYmZYgsvAAasoHuYpi0JasqnE6/UYZfeaZZ6Q0EMedeeaZUjeQZ4Mme14DzxKlXEvTpk1FkaWNZFCiiXphtEv71APjafn2WaR+eDYpZYgoCkqtsFR9VzLjkLfA3KJ/FKajQJ2iHKwglCir4xYvdaHSOQs6QoAachSSLA7k1W+grBGFbKnSABSfnTdvnrn22mvNypUrZZ8FQTV69Gip00UpF6o+p4ICltTZo9ID7QKCkWeSUijWL8Ron0oQlIHhcW/USVPCR2NginKI8Pnnn0vdOmplUcQ0iMWLF8uCzrM1qVDcunVr753sQPCMGjUqR1Vju9nqxjzHEyvFTzr9huOPP96MGzdOBAvt8peyQ3v37pWCmxasMYT0yJEjpTAsXiNq4yUDKw0h9d1335mhQ4dKFWmsqFmzZknFh8mTJ0shTQt1yejv3LlzpQgvf1EE6BMP4KZIqBIORSbA+JExvxm4DFqqp1JhmYEQZO6zjwGJS8A14ZcuXSqmugttMxGpyEy7HEthxkmTJomGWZjwfVRhpuAf/fBvrsvVniNVk91+UwiPc7K8//77pk6dOlJcM8h9wXXls/xVFGAcPv3001LhHJdWMkuGoqXMMSwXrIdUFk9YvPvuu+a1116ToqsUf3RJt9/Qo0cPqcJgC2Pyl4daU33cLZpLgdezzz7b3H333XKeWJupiuoisJYsWSKFdTt27CgFM0uUKCEVonGLYpFR3sjCHJ4zZ47M4wcffFCEY8mSJb13lTApEgHGoMSXjPnNjw2UMKe0OBrL7Nmzcwgx/mcfPmoGnGvCU7gRzcaFwdOzZ0/RdmgXeGL7/fffL5pRMp912HCeaLEIKUqjp8I9x/nz5+foN64IrhftAaX+mzVrJm4RtEIXBN3y5ctFwKHRKgpji8oFKHUsuAiDZFSpUsXcdtttply5ct6eggXrZubMmaZRo0a5rL389DsIyg7hdmROUMHcBSWY8v5Blcj9IMCo9ED/bDVllOY1a9aISxE+++wzifMBApkiswhkrb5csBSJAEMIEXdiUK1YscJs3LhRTOwxY8aYY445RiwlijZa1q5dK9ZG+fLlpeQ3A4rPoPV069Yt1yBBQ0K7evvtt8XU59hFixaZBg0aiFDbsmWLd2TBQgAX9wG+c/qKoMV6QrhSop8S5rZiMn2kvD/lzZnQuE3oO75/+k07tv6XLfW/bt06uRYuBJo5bzTP/E545eAERQf33YABA4qdUsOYxrrBssGd55JJv0kCsd6N+vXrS1yb2Ngpp5ziHZF/iF8hkMqWLStCFWGFdYWAspYX847EFxRP5jluQua0603JK+lDyT+FLsDwRyNMatWqZfr37y8DA5MeE7tNmzaiaWF1sIADA4bj8ckjxDgGAcVnEGiY9f7KwwhGtKsKFSqIqc+xDCC0PLQka91kQlDaPVtQdtGOHTvkvDievgKTFF8+58CgtzCRt2/fLvEH+olQpu9MPPz4TB40Ozv4cfVw3gsXLjT79u2TfYBWyERq3ry5nLdyaMMYRAjgJmvXrl2xGhNYSNOnTzdnnXWWzB+XsPqNwkgyihujyoRSpUqJtwPFmP4sWLBA5um0adPktQXLjLUKLwprk+tNwWOE1wmByrqmZE+hCzDMeTQaXFx+NwWDFPcYWNcYizHWGPvr1q0r+/KCzxA3wh156qmnJoQMsajChEGPwMSluWvXLtnHX9wOCCv3/Lkm1apVCwzwnnDCCSLoEZ42Fsa+li1bmlWrVplt27bJPlyMaLP45v1CXTn0QNkhwYAxR/woHXdZYYLyhZeCWJtrfWXTb9LVsYDY8NyMGDFCBCWhBuZcptAWFhfrCjEt+ocHBVckiiYKpytkcTkiOFFMUWxRyPGsMC9ff/11EdBK9hRZEgc/MD98uhC8Ted4BAZxJ1xzaF9oQ2Hipt27GwPVL3xI0cXVN2XKFBEqCFH+8hqrjMnmQgXldIO9TBju0SH9l8kFWHT8z3cWt8VKKXx2794tLi4WTyxyq8hZZQ7FEFczr4k1FSYobMR8sb5IqHAJq99lypSR6uQ33nijuNs3bdrkvZM/UEShatWq8v0ooFiMrEcojaTt856bYEK8rHfv3qJoWgGHxda5c2cRzMT+lOwpdAHGD8mAQLj4ExAwq3EfkhFEMBlY1BEaDGbX5ZYMhAnJIMSNiB+h/Vghw0AuTHAZ4JNv0aKFxLaAvwjXIUOG5BAyXBN860H33TBhEVRMBlyPFpvMQdIGlhmTnriXJm8oxRnmOVmHrAFdu3bNFfsKGwQLawprTyYQ7uDzhCZwabImWXBNbtiwQYQpSjnzk3AB65VNNrNw3jYRSwmHQhdgpUuXFssDjYg761mY+WFx+6FN4fdGU6lRo4YcbzWXnTt3ihuABAUb87FZRvbGRcACY+DgciMlF+2H4zD9Md0LE+49QWARhMaNiDBlH4LUbyE1adJEJsCwYcPELYgbxWY6cd579uyRyeO6KWgDa4trwr00xMg0eUOxJPMWWGUOhYhYDq+xVLIBlxi3rTC3uXE3VYwHlzfzERc4Hgk/YfWbeDvKLGn4WHqZ3n91+umnS0LI1KlTxWpkrWJuMk/JbEZgMe+A+YlFSQIHCWfWbcmaRTxswoQJ4oKsVKmS7Fey47D4QAslmsjiTEagmz3owsCzGXcMdoKZQY+NQeg89thjOdwKaC1YLNw46IfB/OyzzyYGJ64J7mPx33lv8R+P0CQwmwwyh7iXI5P7YXisDU8G8IM2h1DGxcDEYtAjsLhZ8oknnvCOOgDH9+nTR473a5FMkBtuuEHig1xPPm/jiIqSDG7tICPOnQuQ1zwGYj9+97c7j1LNGZYbBAo3EfMX70R+SNZv4sPcR2rd6S4kQvHUDTcTkbly9dVXe69y418nUBKZf36rirmJ0kl8zCqXrFeEMRDCfoiB4YbMJitSOUCRxMCwENBOEDTWtUZaOam0TAS/TxxLAwFGmjmaEIOGjcWfwYP5bkEA2mxFLBp7HJk/3ANWmOByIFuQc0OLoz9AXA53H+6TZcuWyT4EE9cj6BwnTpwoAizIBcK1RPsjm8ve4K0ohQ036mNRMf9atWqVw9Xtwv2QzPFk1ldYMHeYR/fdd59Ye9kKDOYhFph/XcED5AovsOsVGcU2mYrrwnxnnqrwCo/QLDAlJ7gySX/HvYlVhEvTgrVFIBjXoGuZKoqiKOlTJBbYoQAuGKwshBUZR/wFfOfEAOwTSDTdXVEUJTPUAisgSBwhzmefnhEEz23DBUrQWlEURckfKsAKEALL+PvJyuL2AGJf+M9Jcyd7itiVm5KrKIqipI8KMEVRFCWSaAxMURRFiSQqwBRFUZRIogJMURRFiSQqwBRFUZRIogJMURRFiSQqwBRFUZRIEikBxuOZeLI7DxLl4ZqKoijKoUukBBiPZ6L2FU+c56+iKIpy6BKKAMMyuvXWW+VJ6O5GVVJKo/gLV2YKJQ4o4MiTnflbVFDC5LbbbpPaZYpS3KG8B09kp8wJ8/K0006T2l085oxncwbB8w0osDpo0CB50ryd00ElkNIh2Rrh39z26QPPDL355pulz6eeeqq54oorzNKlS5P228I58yg32qT6OU/FceHz7733XqJtjqO23qRJkwKLTlLGxe2nu/GeCyVpqNgcdCz7eV8JhwK1wCjqRo2rq666SiqUZgv1hagzxCD3l1wpTHg4L8XsqIKsKMWdefPmScUD+wDpn3/+WYQX9bNeeeUV2edCwcZHHnnEtGvXTmp/UQKlKKBq87XXXiuFIOkzj2KjijP176i1lewhQuyfMmWKFLBNVsePYpi33357om3gcW8UqBw8eLAIXCUCxH/srIlrLLG4tiMb/8O///3v2DfffBO75557YieddFKO96JOXBjH4hZgbMSIEd4eRSm+vPrqq7Hp06fH4laIvI4rXrG4cIjVq1cv17yMWyaxcePGyZzt3r177J133inweWvXj7iiG9uxY4fs27ZtWyxuMcbOP//8WNxSisWFl6wpcaswFrfCYi1btoxt3rxZjvWzYsUKObeHH3441rdv31iHDh1iu3bt8t7dT1yAxeKWU2zTpk3Srts2c5s57sJcD2onCLs+zJo1y9ujFBQFZoFRyh+XH26DOnXqmK+++ko0O8Ccx6zH9MaKwb1BuXxM7E6dOiU0RQsWl98UD3Jl0BZVYSk0hzblhyfE0z4b/1vigtbEB3vCVUJhSIpL0o/4NZJjbJ95n4fwEo+jsqrbJzZ/v+gTFWSt+4a20fLCcqsqSl5cdNFF5pprrjHHHnusvC5ZsqS44BmLFGZkrlpswUnGOt6TJk2aZFSNPD+8++67Ym1RGJLwAOC9WbdunRRypfAlxVzpJ8UgSeSiqvvq1avlWBf202/WEypLu4UmXShjdOedd5qqVatKu7ZtKkTwXUHFY5XiR4Encezbt09qYTEg/IOJ8tyU3sa9QeFHoIZWv379RODlF57sjh97586d4uLzg9vgww8/NG3btk1MZgRTXEszca0z4SqhX7hdevbsadavXy/7MgE3RFxzE1+8Fcq0jZ8dtyqTVFEKm7jFIy44BASCylYKB8Y7QqBz585SWbigwR0/c+ZM06hRI4mZW2zp/lKlSslfl0qVKong8YclWGeefvpp6f9NN92Ur/7zWWJiuEzbt29vqlSp4r2jFGcKTIARJI2b+FKN+OOPPzbNmzeX0vouDJY333xTFnmOwWpC42JguoKDtHmEDxufSQUl/JkM+Pj37t3r7d3vF1+8eLGU4D/nnHO8vfvBQpwxY4Z8J99BX6imjCC0Jf+p2cWk5/0FCxaIdUk1Zdsvu9FXC+dGGfLu3buLZcb7tE3yx65du6QqMxNHUQoaN7Ggdu3aZtq0aaK04a1w2bBhg1gne/bsMQMHDhQrjc9g0aB4WS9KWDBPlyxZYjp27JhQKoEK5sccc4wZO3asrAesJ8wV5s/IkSMlwcTPnDlzZI4yd6tXr+7tTY6bWIL1Rcl/vDMkdgRZYGvXrjUNGjSQ45nnKL4IvWQJJXiDOJbkEzwwzzzzTK5kEiU7QhVgc+fONbVq1ZIf7eSTTzYtWrSQRRrNigHqt8A4lgWe2lhHHXWUWFAIF9waTKBMQEiS4MF9Yq6GxsBBiNA+wseCYLrvvvtyuEroS9OmTU358uUz7geWJ6n+CFOEsnWN0DYuHbQ8JgQaqKIUNlj/vXv3FuFh3eRAogTegi5dusjctZYQHhJc32xhJS/hxp8+fboIUYSry+mnn24uvfRScRPi1mM9QciQWELIgX66MNfHjBkj2ZXM3UxAoA0fPtw8/vjjeQpqbuWhzh8Cb/To0SkVUXtNaZt10G85KplTYBYYbgkG5fjx48UnXbZsWe+dA6AlVa5c2Xu1H/zdaFcItUxASKIt4npwb3bGXYJ2iSXo164YUKQLo1UhfNlsnCtTsP5oF5do/fr1E+2yMREnT54sk0A1MqUwQABg7eAFwNMwceJEcbHdc8895tNPP/WO2g8KJOnqCxculDGM9fbGG2+I9YEXgzbCgPaxYHCnu9YXoMzSNzYsQkA5RQDg1UEJpZ+ASxQhcuKJJ4oVlW78CoUVbwjnw3nSn5YtW4plipB0IczBcXZD+UTQoQDjFXKFknutbdtct4svvlj+nzVrlnpeQiJUAYaZbN1wCAsWaYRJYVcdRkhgaa1YsUK0PAYL1lC9evXExeiCVXbllVfKIESghAVarQ5SpTjCwo13hPgz9zSi3LlwXxTuLxRMhIFNcMC1xvHWKssG5trs2bPF+kp2SwzeCtzvVmiuWbPGDBs2TGJgzGv6CVu2bJH0eoSGqyzi4cEr5Lr+gpK/gPPkfEmhx/ojhp4qlb5MmTJiDeJJyeua0DZCGE8MrlHOPSwr9lCnwJM4igKbzIG/nIHPgMEScpM3AAHDfSBYS/jNMfOt1mTjXJnC5CMQjPuUBcK2627ckGm1S0UpbGzyhrVkgDGLQAjyPmTqTveDckfWIUIHi8lvfaUCa4t4NZ4bYtdhQ4YmAsefnRkEsS+EHLE6NxEmGRyL4MLyda+5kjkHpQADLC00KbQ3rEEGjz95A980MSgGHxMXoYNQQ/ARcEWzCoLj0WJxq6CpBQVxeR93KIkcuBq2bduWNNirKIUJcwHhwbjEssI6seClYHHlvU2bNiU8Cbj6cLchNKpVq+YdfQAy/4g/4YYnNuTG1fwwF3DR4a5jjuQFbWFxvfXWW5Iaj1WFZWYVTL/Lzm54g/AKcU7E0tjnJlm5cI7cToN7EpcpfUsmlOgPawOhEeKExNxSJY0QDyecgZKMpYZSi6BUsqfYCzAmm/sImquvvlr289fu474VP2h1WFwrV64UnzMD0m9RMUAZ0FhgPJUgr0CxheSOxo0bS2Ab9yOfs31xXRR8P4N7woQJ4iZxj2PzP4JGUcLGP3/YcK0R40JAsaiivFkY/8SkULyYMyzMdh+Zs7gWGf9+EC4IEbwdixYtSpoEweJPtiBxN9osXbq0905u7OOb6AOuQYQXbkTu3+rQoUPSe7zSgTXDvSacIwouoYRevXpJ4ojFfw3pD65PhB3XkviYex6sAW7bNWrUkNsSEKj03a9IK5lz0FpgwEBh0hH/QpgEBXfJdBo6dGjClUe2IPeQcPNxsuct4qLkXjVudvYnobiQuEJmFIHomjVrensVpWhhLPIYJSwZf/yJOUKsCwuMdHsgeYIEBBTBZPEqHgKAwGP+tGrVSrwZQdgbpdO1vgCLkL5wPyXCsUePHoFzORvoN4ljKK7EqlK1j+JLghrXCIGHkEoFawQWI2GJguj7ocxhcY0oua2vKIqiKMWUg9oCUxRFUQ5eVIApiqIokUQFmKIoihJJVIApiqIokUQFmKIoihJJVIApiqIokUQFmKIoihJJVIApiqIokUQFmKIoihJJVIApiqIokUQFmKIoihJJVIAdYvBk7QEDBshT+N2K1YqiKFEjEgLMX56ALVllVT+U7H/sscfkadn2szxJmpo/hyIUKuTp/JS94K+iKEpUCVWAffXVV2bQoEEJYYGW//DDD0uhuKKAYpWUTafwHGUcFCM10SgTQ/mIZOVilIMXCjcyJ/NS5ChS8dlnn+WYz2zpKo7JoKgrdcM6depkTj31VHPaaadJ+RaKyPqhD1RJ532O43g+x+f9xWH99b2CNn/9ve+++06UW9Yp3uc8n3rqKan67AdFmCK35513nhx75plnSjkl+ucv6EHfKABq+83xVIifNGlSYNtK5oRWTmXevHlS94qKo36oiDpx4kRz3HHHeXsyhwlEMUvq8DDwUsGx1157rRSdpP7R8ccf772jKIcmlPKnqCIwH5599lkptOpCMUqUvvHjx+cq6prOvEsGS820adOk/p6/XWqOUTvP1htD0E6ePNkMHz4817HUB2P/ZZdd5u3ZL8AotpmKG2+8UYpPwubNm6VI5QcffCCvXWh3yJAhUvrfgvBDuPmh3+x3rwlKAcU38Xb4oZDofffdJxXblRBAgGXLzp07Y5dffnksrtHHFi1aFPvll19kf3zgxdavXx+7//77Y3ENRvZly7vvvhs76aST5G9ezJo1K1a7du3YmjVrvD2KcugSt6hiLVu2jMWtqtjgwYNlvn7++efeu/uJWw+xcePGyRzr3r177J133onFrQbv3exYt25drEmTJrHzzz8/tmrVqlhcSMX+9a9/xZ577rnYKaecEuvSpUuOdWLFihWxuCCJxYWN9Ms9Nq6YxuLKsndkauw6QHvAusSaVLNmzVhcoMb27t0r+/nuYcOGybnPnTtX9lniwjw2f/78xLH8tX0ZMWKE7LN88cUXsbjAi23atEnOkY1rHxdegddcyZxQXIhUPd6+fbtp0KCBaFAlS5aU/VQePf3008UNQYl/lyBXAhVXcUOGCd9bqlQp71U40MeBAweKGwH3wCWXXGKWLl2aw62B9YeLBg0vPlnkHPv37y8WKpom54sLAtcE8BfNb+zYsaK52fbtdQnS5vID/aGv7pbMHWT7Hp9ocl6cH8ejZeIGiSso3pEHiI8lcadwTqmui1I04Lp6+umnzR/+8AfTt2/fpBaArZjMWMQKiwucUKwFxsfrr79u9uzZI+sBa0WJEiWkcjMelQ4dOpj333/fxBd97xNG1pJ7773XVKlSxRx22GFyLBZMixYtzJdffml27NjhHZmcrVu3milTpojrj3EJ33//vVm5cqWMT6owW0uLtYJq7GeddZZ56623zM8//yz7gUrKF1xwQeJY/sYFsalevbpYhC5Ud8fKrVq1qpwjW1zQyedZE7Uic3iEIsBwRZQvX15+9GXLluW5YOEeiGsv5vrrrzdxDU9cBAwWyvhT4j/ZwpoXZNjhFrALNC4FFn4Gmt3H5veF5wcmGUL3hRdeSLhLWbgpGT569Gg5NwsTZcKECbLoc464WePampQi53x5HbckvaP3s2TJEhPXRBPt2+uCQKO9woLrxuJxww03yPkBiR8I4zlz5shrC4vT7NmzZdHjnNzrQhtxjVReK0UDvw9CafHixTI/EGLJWL9+vQiGzp0753ChZQsCFNcaQoSQggV3ZdzakYSiuFUjSlM6sObkFZLgvCnjj1BkTllBTF9YKzg/vzApXbq0KJuM2VTxKuYiaxjK3MUXX+ztDYY1gZgY7tf27duLQFbCITQBRozpiCOOEA0GjWrhwoUyOIP48MMPRbtDsKChb9y4UQYumhJtMTBSDZ6igkGL8OE86St9pu+cA0FaBqg7AZmQb7zxhmi++P55/eKLL5phw4aZV155xZQtW9Zs2LDBO3o/CMgyZcrIcbTFawY91uqaNWu8o/IP1hOTko1+poPVUlEyWHyIYx5zzDGiYLja6dq1a80DDzwgSgwWJAF5rgufIxagGmfRwu84atQouX2icePG3t5gGI9YEFhKrpcBCwZFLNmczgsWehSgE088UQQJrxEubdu2lbgUlhJgWaWC91k/OA+/V8cP1uSMGTNkbtauXdvbuz9uVaFCBZmD9GHfvn0i7PAioXASJwzC9WLUr1/frF69WuKEWFd+XGWa97t27SqKL4kdOh/CI7QsRMx9tO/evXtL9lKvXr3EFMcq2b17t3fUfljYEFQMXOse4EclKw7Nj0nEYMovTAwmql2osXbIumOQ2n1sNpBrSZbB5LfU0OQQKAxM+kqf6TvngODGyvILJCYPx6L10peWLVsmXBG4RPiMS/PmzWUSMUFon0mKpYqw8wuwdPudKUw6gtkIJtwguH1Y0OiztbKZ+IsWLZJ9CLE2bdrIeXFd+ByWKQuiUjRgTTEnEEDt2rWT3yUV/I5Yzq4XABAcWN9sQS7kdMHCwevQsWNHSarA0ifRCoWQ+ZEKzoUxVq1aNdOzZ8+UgoBxieeCz/BdKJ0WFET2oVCyXtWoUUNcgaxXrBkI2nRgLWDeI1DzAoFG4gkKcKZKgJKbUNPoy5UrZ/r16ycCCquDhWvkyJEizKy/Gs0dIcKEYLH2L75kKG3ZssXs3LlTji9O0GcGPTEpf79xI9BnvwbZtGnTHDEEFhImcTJq1qwpwsoFbbFSpUq5hF1B4/r8gdgmiocLk5FFiH7XrVvX26sUB3BdkclHjJq4V7ouQWI6xJrwouAFwPrGk4ACgxuS+ZspWCzXXXedCEm+A+WHrDzGOPjjSRZixAgv1hGUqlRuUMADgAC+6KKLTK1atby9B8Dyw9OD0OI72fgfAWNjVX5h73ox8Dog7PDK4Cb3K9yuMs015FqivI4bN068K0o4hCrALGjgrVu3lgHUp08fMb2ZSGhFaO6FvRDnBYFcOzDdzW+pFVW/cXG4sTVLuv0uDJiwWGlK8QHPB8okC6hfWST1240PY81bSBwifoxVwkJukxBwf7FQW6ssP9COTabiO1999VURADYehGCiP0HWOu5FvB6ffPKJJEAFuexcmCvE1XCDXn755TmsLwvCCa/R9OnTxWPExv8kL3Hd+A7c5cnAimP+YUWuW7cuR/KJH86dazl48GBJalu1apVYZEr2FOiKw8DBMqlYsaIMTrR1FjqsCX5IHmUUtAAzmBo2bOi1Unywk41YUFC/2YgFhs2nn34q14Sbj4sb/MYE01kkw84gVQofxjgeEOarHwRCpiAMcNXxF/ckiRLWwkHgYNnxnl+AIbRwZSNUsF6w9PMCN77NpMyPV8C6w7GuuKnZZlOngvUM6y2VO9NCexzH8arshUMoV5EfHJchmpK1FLC0tm3bZmbOnCn7GbDWlYYpzoL84IMPisstyLoojuB7r1OnjviySaooCC2KiYpbgsnEdVmxYoUkfRBPQjssbjAhGzVqJO5TXCkoJViMYDO1/G5VpXBAsXjppZcCFS0sBzc+jDUBZAiywOJKw6qw45AsOlxijH/mgR8sKFyDzG2sKz7nwjgh/R14EgjxXNYIlFoSnKZOnSrudYQc8Hk8N8S6cC+SHISlmBf09eWXX5b/Sc1PR7AwjxGUPLWHxBXci3nNNUIJb775pqx7uB79N4O70CeeRvTEE0+IOxZX4pFHHum9q2RDKAKMuBbuAOI9mN4MNH5QTHQylxjU+LstZBBh2hNkZdDaz9gNd4EVDvy12TxsZDgCf+0+1/1RkCBEyKrD0mCy4lu3fWBj0DNAs4GsKRI4cDlwXQhwIwCIu7EvEwr6GuKeQtvlnjeScFiEaJPzwFqNioKiGBlzV111lSzOLLR2HLKPWBquReaBH26hQakjAQIrJihRgXWAhCTGCfOfNQJPDDGwypUrS0KFVXJRflhTsARpl7XFjlW7ueuEhYQKhDbJU7hCk+FmFDKPOR4XIkKWbE03Xmjv0XS/G0HOueCB4AlEbkakP7mK63fOOedI9i/5AMTYlHAIRYCRmYag4oexbi40DDRzMuJYxNygK4OUQYuWxyKHxhcVuE+NAUpwmHTcgoT2+R4mJBM+rwyyooLJTmDd/T3Z0EyxHpnESjTAYiHWxW9pU88Zh4QCZs2aJUppELjcEHjM/1atWkkc3E+ytskIJAuRhT4byI4k7s53p2t9AcITCxQBg6XnT6Lyw9hmnLOGkZCRV7+5JrTPseQEpNsvJW9Cexaikh1oeWh0PPmgKJIwFEVRooZGEhVFUZRIogJMURRFiSQqwBRFUZRIojEwRVEUJZKoBaYoiqJEEhVgiqIoSiRRAaYoiqJEEhVgiqIoSiRRAaYoiqJEEhVgiqIoSiRRAaZEAh7aykNWeSAsT7xXFEWJhABznxxtN/alA88YfOyxx+Rho/azYTw1XilceCr58uXL5Wnn/FUURQlVgFFmZNCgQQlhgbZM7R9q4RQFP/74o9T4efLJJ83XX3/t7VUKAuoj3X///WIl+UtchAG1q5o1ayZP9uavkhmUtmFOJlPkgkqHuFu6imMyqAFGeZROnTpJjUBKnvCE+o8//tg7Iic8Z4F15a9//ascS3WLVNA+BS1pk/bzKhPE8dQ669u3r6xXnGMyBZd+UC+M6hscd8kll0hJKH+5ID5LG+51s5sqz+ESmgCbN2+elBqhJIEVFmjLVFFlcDAxMoWBZQvx0X66MCneeOMNc80110gZb9sGEyhVATol/1DK4v333y8Q4QWU4KEAKgtospIeSt4wHygyautuFSYII2puUXXhnXfeMb/++qvUEpw/f74INNc1zLEUvaVGGOVZKHjJsclAEL377rtSP48SRLRJ+6lgTaLyA7XOKMLJepWM9evXSx8p1/LDDz/Ivo8++kjq9KEga827oiEUAUahu2effdaUKlXKjB8/XkrgIygoM8/AaNCgQZHUskJjoi4ZxTSPP/54b6+iHJowHx999FGplXXllVd6e4OhYrNV+NwNZTJTEALU2zrppJPEMsISQcnEusKCp7oxhSwBIUG9LQQRdcaoK5cKvDx4f7CmEGK33Xab904wKFxci7lz58r6wF+7bvkVXDw5CKnvvvvODB06VPpM36mPxrlMnjxZCmn6oSCn//qp8hwuoQmw7du3i6BCOy5ZsqTsp3AbFVcZWG7FUghyJaDNIHTChO9FsIZJkCth6dKlck4WLAXcBVSfxbXGOfbv318m5pgxY+R8b7nlloRlal03THDiPbZ9e13Ylym2IjPuFyYh/aFt+kRlaRY2P0xw3COcG+dIP9Ccmaj28Zm2Xd7nt1+7dq0sBP5K1dlUe85P/NNeQ76P34jrRr/ZWNAYo0FwTdw4KYv0U089Zf75z396R0QfzgUBQWFZPCKFbYExZl5//XWzZ88eWQ8YLyVKlJDik1QGR6hiwW/atEmOp9Dl+eefL4VyrdBLRYUKFUz79u2laOTgwYPldSqwnubMmSOuRix7CmzadcsPAmvJkiWme/fuUnyTPtP3hg0byvhnTmNRKoVPKAIM64Yy45QVX7ZsWY6FPAjMbdwYflcCCyZuyEz97O6Cykb5cxZ+JoLdx5aXHz0VTLIgVwKDe/To0TlcCWiTEyZMkEnIOeJmRSujIi3ny2vcHi5MlC5duiTat9cFgWa100xhAWGxoD+0TZ9QIu69994c7hMWO74PAcC5Af2gzDza6uzZsxNCrDjC+fEbcd3oNxuLFQuV38WJ8MaF5MZJuRaMEX6fgwF+K4T64sWLZX641dELC8YUVguKU7169by9xvz000+i9JCYgxVmlSk8NihXzZs3F2GRF5T2RyGsW7duWt4e5l3FihWl0nleFZIRYHhyWrdunTiWNW7NmjUyTwF3Z0G5z5XkhCbAbr/9dhlEN910kyySCxculMEZBFo8CwaCBctl48aNMnApK05bCLfiqP0iQBA+nCd9pc/0nXO48MILJT7nWjNMSGIOaL7Tpk2T12iIuENeeeUVKV1OwNkFAVmmTBk5jrZ4jWaJoGHCZMPmzZvN7t27JS5p227Xrp385T0LC/dLL70kZeRXrFgh54h7BcvxmGOOEQGBYoAWP2rUKHGNrF69WhYmLDZcRa7bhHLqmZJJ/JO+Hn300Qk3FYqVtRC3bdvmHbX/98QaRXBhlaA48T0Iba5R6dKlvSOjzcqVK+V3IsGmcePG3t7UYIFahY+FO9tkLCx6FIMTTzxRxg2vFyxYYNq2bStxqK1bt8pxX375pfwtSFBo+J1x5TG2scKw0jnXoMQM+o2wY77a2ByfQfhZywuL37/eoUDTJp4O2n3mmWeyygVQchOKAANchyx8BF35gXv16mXOOusssUpYNF340RFUDNwqVaqIxoRmQ3ZZ586dZVFP5u5JhbugsmHtkL3GRLH72Pwl+1no7GR1N7+lhnuDxR4tlr7SZ/rOOSC4sWj8AgnBxrFovfQFf/4FF1wgCyyuCH+gGY0Tq61+/frSPi5QLFUmj1+ApdtvC9/P78H327ZZQOiDnbAI2UWLFokbEJcnE5dzxL3Spk0bOfdPPvkkh6DOL0FuQTbaDkOLPeOMM0QAWTdV5cqVTYsWLeQc3YUJQcdY7Nmzp2jvZDgCvw3XiPONOjt27JA5cd5554myko514odFnuvJgp3tPXgoBVg/uOKIs6EIEbNCIWR8FgZYT4x54mt4TviLUAObmEEs3/UyEIbA1YxQ4jqypjRq1EgUU16ngu+i3eHDh8t5ZzN3lJyEJsCgXLlypl+/frIoYHXgtx45cqQIMyYSWO0HTYvF2r+IESTdsmWL2blzpxxfnKDPLPAMcH+/sVbos1+DbNq0aY54AwtJKs2+Zs2aIqxc8OdXqlQpl7DLLyzo+Ppd/MktVlOuU6eO/J4uLH70D5jMxRUUJ34TFyucXGy8FeFmXUMHEwhrEgyIUWNhIpjz4rjjjhPr2yp7WLAIrR49eoj1QDZgNt4RBAOuQRZ03NEoSyRr2JjV4YcfLn8LA9yCKJ54NzhPBMvMmTNl3cLdbtcswHpHgOMZYQ5xXfEI4BJFSbLKLGDZ0aa9hrSL+5Y1gv9J/nAVKSVzQhVgFiwL3A74h/v06SMaNz84Go3VfooTuLjsYHM3v6VWVP3et29f4IBPt9+ZwOROJ/aQCa5b0N2wFAo7uYDzLMxFszDB84EyyaLpVxZxEbrxYaz5IBgDCBeUUNxseEastZIfWOBtMhXfSXYyHhK8F4CwoD95JWuECWsUHiMsPyuEsKrwAiH0yT4E2++qVavKdWNdI0GLzyDMUVp5L9nYpV3Oi7UQjwYKIoqikj0Fs0J5ECtC6+BHY3DiI+ZHxpogOxHNLmghwwVJhk9xw062iRMnBvabjVhg2ODq4poEWRFhYxcaXKV+KwsFBPchC769FlEGCxOLmkxR112k5IYFl42xwRjJL8ROa9SoIX9JUiIuZC0WlDMsFN4rDAGGgk3SGYLdJmJZGAd+CxN3OmOetQwPCuuahXg+YQOUAJShVOAe5xpiCR+sSlNhE4oAw7zGZUgg1loKWFoEzDHJ2c+AtRoKGjgLMllhaC9RMaerVasmrjV82bgICiLrCK2Z5AImEteFJAqSPphwaH0FDe5Nfp9169ZJ4J7fjr6gfKClYyWhpbIYuVjBR8IEWxR+0+rVq5tTTjlFzmnGjBmJLE8sXjIuiY1EGb870N2IP7nx4WSJNvyOZOHdc889okglc4FjQeEaZOxgXfkVAsYHrlpgXBHPZY1gXBFHwjVJ2/5xVRAgOInZE9sjRd/G2/nd+c2JQeMmRNEGlG1i0vSRDFz6TN95OAJJQMxNrMpk0C7KOve7ITCx/JKl7Cv5IxQBhksBdwDxHhYEtBH8wAwSMtYY1Pi7LWRC4U8m24dBaz9jNzeYz19e2/fIcAT+2n3J3B9hw0Dt1q2bxE6YrP77ncJ4TAwLKZPFLq4EuBHyxN3YV9AwuVnM+M1Y/PhN+V4mMUkdaJ+4Xfz39bGo8XszQcnQcn/TTH+fgv7tSe7ANcaCxK0EXHfaZBElcca6kA4lGL+MY3t9+R1JUkCgd+3aVcaGtZxcUFpQ6nCPEdfimvphTHFdsXiZ/6wRjCtiYPwWjCvXDUcyku2H/e3d7MhU6wTJFmAzAdnc5CaUMDIDeTKIjZnyu9MHm1VtY4Z4PoghAnOAPtN3bgYng9U/N/1JSrSLW5Ls3DvvvNOcc8453pFKtoQiwAhkIqjI3LJuLsxpBgmDBpebe+8Jg5RBS0o6i0aUzGnuU2PR5HE13GxZkNA+34MgYcIHLRwFAb8VmimZeSwsQF/IoOLcEVR+6BsLHJq6TfQo7tBnbqD1/564sTgP9h3qMJ8RWtz2wTVJlgjCTeBk2HI8j37CTecHKwzlhnlvk4nsuCILEWFZWHAeQ4YMkXOybkv6zhhGqPn7gpDDAiMz1cZN2cctP3nNTeYQ2Y5YuyTDZOKCVYI5LG7qq/O/GECGF9ppkyZNQknCUBRFOdgp0CQORVEURSkoVIApiqIokUQFmKIoihJJNAamKIqiRBK1wBRFUZRIogJMURRFiSQqwBRFUZRIogJMURRFiSQqwBRFUZRIogJMURRFiSQqwBRFUZRIogJMURRFiSShCjDKjAwaNEieTE0ZAconUPvnm2++8Y7ICdViKbPy3nvveXvCgxo/t912m9R6UpRDGQo0Ugqf8iHMSyorUw6I8ifUtfLD8VSXoNSRnccPPPBArgKn+YVnJlAHcODAgVLBgrZZKx577LGUbdv+X3XVVdJ3PueWUrFwLpxTp06dpP4gx/L0+48++ihXfTKguCQlnex1oU/0jeK7QbC+uX3nc3w+qPYd58N5ce04lmvJNfUXy1SyI7QnccybN09KE/grnEK9evWkpAoF9lwoY0G9nueff15+6DChrhG1u6iiqk93Vw5l7DzzQ0kQirNedtll3p79VRFYpN944w1vzwGYo5RCcUsj5QdbcYECuH4oTfLEE0+YsmXLenv2Q8VjamhRPdkF4UFBXFs/DGH2yCOPmGeffVZeu1CyhTpi7hqD8ELAUIjXD+VVON4tqUItL4qABgk3aoVResiWSaGaOTXCgo5FYaeUlFv3TMmcUCywXbt2ycChIu/48eOlcitVXhl0VGdt0KBBodWyUhQlJ9S+onIwCyvzkvk5ZswYKeG/bNmyHJYMiijl/Vms7fFYMFQTXr16tQjDTHVe1gDWAtYE1gYqIlNxHCUTb4y/GCwWD8KLStkIYKoacwx9wrPiCgHqj1FglkKUFJTkGApn9uzZU5TqOXPmSGVkC9+LUo3gpAAnfbHHU0B28uTJIuSAwqZPPvmkWFVDhw6VCtX0Y9asWSLsOBZBaznxxBOlaCV1xThP99jXX39drr8SElhg2RL/kWLNmjWLxbWOWNxE9vYG8+6778biP2TKrUOHDrG4UPQ+EYvFTfTYypUrY3369InFrTk5Jj5AYiNHjox9++233lEx+Qyf9bfn3+iDy88//xybO3duLD6R5H2+Iz5Qc7SdKXv37o2NGzdO+uvvB9uIESO8I2Ox3377LbZu3brYTTfdFKtZs6a837Zt21h80ZA+WuILSax27dqx+KIU+/XXX729B+Bc+Cx/FSWI3bt3x7p16xbr169f7KeffpJ9jNW4JRG75pprYnFrSfZZGH933XVXLG5B5HovWxYsWBCLWzux9957z9uzfy6MHj1a5mJc2Hh788/WrVtjF110UY41hTWKtYo1Ky5MZJ+Fc+P8W7duHYsLUNnHekH/HnrooVzzzc61uELg7UnOpEmT5Ni4MPP2KNkSigVGCW7K7VNWHI0uyK+eDcTI8H+jHVoXJaW80YpwW2ZT+h3tMy5ExORH0wS+A38134lmlin4u//yl79IVWr6m4r4b2Fmz54t7pz58+eb+IIh+z/55BNxgeLWsf5zKh7HJ5+JC/VcsQO0xuXLl5s6deqYxo0be3sV5QCMI6p8x5UlGW9UGIb44izWDp6UkiVLyj7LEUccIeNu27ZtWcfCLKwTWCjPPPOMuAQp1W9hTmNJxRU4qeyeLVhF9jyZ31hFf/zjHxPVmIHvnDFjRsLC2rJli+znNZ+NC7WEm5C+r1mzxrzwwgvymtiePyaXjBNOOMH7T8ma/XIse9CS4gumaBhXXnmlaFXxH9R7Nxg0EY73W0R+0MyGDx8e++KLLxIaUHwixfr27SuWSHwgyT4XaxW6Fk4QcaEo2hUW144dO2Qf/Z4zZ45of8msnHRYunSptB0XstJfQMMbNmyYtO2et+1vy5YtxdrkO7E84xNDtF7aiQs27+gDmt+SJUu8Pfux7aC9osUqCthxwZhha9Wqlcwrd4zElZ/YgAEDZKw999xzYpEBYxYvQPPmzaUN2soG5qTtBxtzbM+ePd67+2Gun3vuubHx48fLd1vvCJ4JPBTr16/3jkwN84PzmTp1qrfnwLWwVhPnOW3atMT6ZTdrKdFfa5FxvbDaevXqleNYv9fIDxYvn4kL6sRaoGRPaFmIZ599tlhIvXv3Fm0k/mOJfzm+kJr4j+cdlRkNGzYUH3h8oCQ0ICy++CA08cGXsFbyCz5xrBU0vD59+pjf//73sh9/+kUXXWTat28vAWfXwotPZtFaySxyN7Q5tDaXuEAUTZbj6S8ce+yxJj7Y5Tvw8VvIniJzEouS/nCeJUqUkEAy8QeC23GBl8h4OuOMM+R6LFy4MIdvH63wp59+MvHFRuOOSlLwLDBX4wt8IqbFWP3Tn/4ksTESDeLKoYzt+vXrixdg8+bNclzYEItijDO3LIxztriyJ99tvSPMdTwUZBoy1lMRF1QS+8O6cxNVLCR3kEXIXL/33ntlnbrjjjsCEzuwSrE8WYfatWtn4gq6zNO44JPXqeA8OEcsSj5v1wIle0JNoy9Xrpzp16+fBGQZBCywI0eOFGHGYp4pDAAmGqm/No2WLSizKj8g/Bjk9JdJattlQ3AQnP32229zTKz8wKDHrUAAmUQX4C9uB4QV18vC91SrVs2cfPLJ3p4D4HKoWLGi9MMGltkXt9bMqlWrxK0DuIa4Tgh8rr2iWBhXKEkkN5BRx4JKcgcKk5tUQIo4yQdt2rRJuNwQZLjBu3TpIoqVVSIzBYFEP1D46NO1115r5s6da8aOHZtQ0CxVq1aVbEEUST5jE0qYu6+99lqu4y247HG7kzHJ93GufhBahA6YP3GrTvpC2n2ZMmXkfbI0LXz/5ZdfLun8XA/WBrKnuV4omlyTIIWR/nEcyW3cYoRSr4RHqALMgnWBv5iFGssGzYMf3Gp6+YEBQMZUjx49ZIBlam0FQX+STYBkcCsA8QMmk7vRN7/wIRPpwgsvNFOmTBGhgmDkL6/RCP23DhBn8MceksGEIT6wdevWRFoyFh3/851BE1ZRgOy9Fi1aSHwWRYpYmAuxKITJhg0bZGwjXLBiUMaqVKmSK9U9U1j4UcQQMPSHLEe/twbl99JLL00IFcY1qegcj9JnFToX4sasFxyLAu1P+0cwcw0QUFhyeDHIdrQKJVmIvFe5cmV5jSIKCFPS61nX8LjQf5RGjuc9f2o8fcMDRYwdi5Y5r16RcCkQAWZhQSZFFuuBeyJwbeUXBinmOhbFzJkzxWKyQoOBkQ0IWiYkwpZJbNt1t6VLl2ZszaAtIryZbHYy8JcJO2TIkBxChkmC6zUoxZZrh6BistNni03mwA3KZMGSZLJq8oaSDtbCci2NZGDpMw8Zb1aYhAWLOn1xrRgURZLDSKDwK5m4zPfs2eO9OgAKKXMBTw3eDIQXa48fBHD16tXFlcexJHhYCBcw5/m8dfWRns81Yi3jhmTWNQvp8wh6lFN7PYH+Yd0+99xz4gbFekPgKeESyhVF68dlyCJrBxtZOpjmCB32c2e8X0Oxmg2ZP2iCQaD1MRgYzBUqVJBBjtaD1oRpngyrZXFDJpOP/vjhfSyiN998U27QpL9Bx2UKWZkIrAEDBogbEZcJ+7jHxm8hNWnSRPrMYKe/XEf6gp8fVwfXgMnjanC0gbXF/TG4hYiRnX/++RnfaKocGjCnuMeLMY+rnHuzgkBQYNXjwuMGZBQm4sJBECJAGOBV4D6vdLwtjG/iSizyzGfGN3EpIFaMIkaMiuxcq/ySJTlu3DhR1pi7dk2hLSxFbijm6R6PPvpoUkuReYP7HcWQm6E3bdok/UV4YTEhqHGhVqpUSY7HIiXEMHXq1ERf+D7mKTE2BB3zzsJaRiiFuU6mNDEytbwKhlCexIGVcfXVV3uvcpPsDn4mBzcOYlW51HOe3MFkQwAwOJMR9CQPLBKsHISjH/f4nTt3SuCWwRYEwgaLKRNID+ZJB37Q5ggAE0THJ87gRmAx2HkagR+OxxXL8f74A5PlhhtuMHXr1pXfgc+z0CgKpJo/JC0hnEjAsqBkdevWLddTJEgaQihgaQThPu3D/5QMS6p14sorrxSXpqvYsS4w/3DR+cEd53oxkvXbxZ3LKMF8H+EAP0HrFUoi88//pCHmprWwrJAiXoirMRl4UnjwQ1C8W8kfoVhgBDK5b+qCCy5IZPJhTbBI82MijIKsAtx3TCCygKzm5YdJwATEV22PsUFlMoDImAoCMx8tCI3Muu+CQEsjxoa5H/bCj8uBiU+/0eKsi4H7bdAgu3btKvfNAYKJvjJx0PaYGGwIOK4fAswvvIDrivZH4N0+o01RUsE454kVCDVXePlhLjOnGX8ofanGFlYPVg2fadWqVQ5XdzKYF7SPZcOzFv1eCaxDFvqOHTsm5j5951gsH//x+YHPIgCZ9zZEQN+Zg8T//OsV85B+2uQWOzexHl3hpRQuoT0LUckJmi/ZUmiPWEWuLx5ri0AwrsFsLDxFUZRDGY0qFhC4MrCyEFb41v2xQXtfi6a7K4qiZIZaYAUEwWbuMSG9Phm4T/Cf+5/SryiKouSNCrAChBuPCW6TlcW9KcS+8J+TXcUTD4hduSm5iqIoSvqoAFMURVEiicbAFEVRlEiiAkxRFEWJJCrAFEVRlEiiAkxRFEWJJCrAFEVRlEiiAkxRFEWJJEUuwHjAJw/P7N+/vzxgU1EURVHSocgFGE+Bp+bXihUrzJYtW7y9mWNL/vOwX0VRFOXgJWsBZgXGrbfeKg+wDYJn/1EThwfY+uEp1jwFumnTpon6O0FQQpwnUPNk+mTfU1x5+eWX5Wn6lHxQlKKEZ3I+/PDD8mR5qgq7Y5J5xTzmvVQbXpP8kknbPGOBZ4byhHhbaYG/vKbQpR+UVn97dnMVWrtmBR1nN/+1AZ5jSvHKm2++Weob8pSddKDiRJ06daTddD+jpEfWAowSH7YwZTIoxkgdnaByILgPGbTUzUpVHoH6XhThi5rwAuoaUftMUYoaCrxSAsRfq6s4Ql955Nq8efMSdbj4y2sUQoq9FgYILorFXnvttVL6af78+fJYuHRg3lP+RSkYshZgJUuWlGrJ/Mh5PZUqL0GnKErBgSJFUcoOHTpIAUk/CLVRo0aZL774ItdGxW8KVfIcTyyJ/JLftomHv/baa+KVoao7fedYLDLKFOGRodqDH4rhrl69Otd3uCWLeHg2hSz9x7ChTNMPqlRTeBK++eYbM2jQIPPee++JELvttttkf15wDrZA7cCBA+WvEi6hxcD4kX/++WfvVU7YTxluBB0EuROCXJDucQyotWvXShG+WrVq5fhsMrOccuVDhw41p512mmwUr6MCsx8GGgU5KWlOe7gpeJK832pKFV+jD67bgde2f1RnpbwKD++1+9iCzjldaJ/2qDdG2XUWANrkHJictnyLBQWDCei6Y3DfUlCU62ThnGnjpptuCkyqwQrGHUIRUH2MZnTgt3z66aelUGPfvn3zbYFhgSBQKN5oi9aGRVDbjC3WDcoN1ahRI+G9wUvD+KXAZdhWJN9JPxCoCHjbfoUKFUz79u3Niy++aAYPHiyv88K2RYwfgct8U8InawHGj+yPXbGgEvMi9gW4EIMER0HCYo2bgYquTAS2GTNmyIKNO9KyY8cOc/3110t8zZYux03BOVx66aVSSry4gkClKCbC1tYX4xzI6MT94sL1uOqqq3K4Y77++mvz5JNPimCnZhmgdVJZd9WqVblKuTMpFy9eLJY0Qk6r0EYDfjcUHn47lKag6uipYGxgBVFhvXXr1t7ecEjWNpXWKTdE/Khnz55ibTGHeY01Qzl+3HlhwnqFkLrwwgtNw4YNvb37q7uj+NWtWzftMY8QxNrFYiNMohQMoVlgCCm2ffv2yWD77LPPzKeffuq9u39hpHw/uO4E6z4Iwj0OtwDuAY7lM67Zj5/cD8fjp541a5ZYRWhCWHHLly8XawiwUqZNmyZuAyYJ1gXtuW6K8ePHJxb3/ECfbP+ousz5L1iwILGPjXPLRotEKVi5cqW4NOg754klyeSfM2eO9N+CBturVy9ZxKw7ht/p4osvlgzQjRs3Jo5r27atWMxLly6Vxc+CsOf6WUtViQaMEcYaCVC4x/ILNe2WLFkipf2PPfZYb284pGobq+eRRx4xmzZtEmUUL0qPHj1kHqN4BQlivDS8z/hEcGBtorzhgUgF45w5w3eh6GVT5oh5+eCDD8q1pr9BsX8lHEIRYJj9uMLQkPjxSIc/++yzZeIwMHbt2uUdWXiccsop4rpDkypRooSpXLmyadGihQgt614jfZ/JgyuuT58+iQmEm6Jz586iPSHMCisBI1l2VFBGFCCoyCizfec8OZaJj/KAwLFwHe6++25xydgJVb58edOsWTMRdPx2lpo1a8p+rE9rrQGZXwg++qh1zKIBYwDhhdKBVyS/VjOFWadPn27OOussGVthklfb9LVatWqyWVBKqa3HXMkL5je1+BB+o0ePzuVWd8EbgZWK16V27dre3vzDd0ydOlWsOeZlqsQ0JXtCEWBucsbmzZvNUUcdJVo8lg0DDcsMn3VhJnEwYRFiLn7fvc2OxDVQunRpb+9+WORZyBHIHFccQWgRD3QXJfpNzMAV1MD/COvrrrtONFkrHBFqfph0uFHQXD/44APZh9uV7CsEG9dFKf7wm0+ePFkUSCyRTBbThQsXJtzPYVtfebWNh4DxihDGs4CnAKWS7EO8GngSXEjUcD0cWGOPP/64JG08//zzuY63cJ1wHXKdiMNlo5zRR655v379cq0/SviEIsAOP/xws337dtGocN0hENCqCBxb64VBQTXi4kg2brwwSZYdhZsFn3+6+BNDmKAkXeDOoC3X2koG7g8EHS5DPo9GSVwMwaZaZTTYvXu3CAEW7ubNm+ew6v2JRVgffrBgZs+eLXMZj0qY5NU268mIESNE6SX5hP5XrFhRXPskUhCfJb5NyCIZZcqUEasTjwTtud4EF9riXk1iaiiE2UBCCt+D9eVe76uvvlreR2HkdTYJXMoBQhFgJHFg2iPAPvzwQ/FBY+1wsx9uKAYrlkFxC/ojUBFeuDr9GXcs2rgq3NidBY3QFQJYmSz0xQHOg/NxLV6uP/E33IduSjIbi0QQxBdY3Igd4hImeE57mcRQlOiB658sOmKrXbt2DdX6Sqdt4s5YRLgWGbcW6yZHodu6davEalNB7AtBgbs9SIFmnmOdsX4Rh1PXeLQILYkDMJ9Z3KtWrSqCgbgLCx+xEwRBNhYYApAFlAWVjYGXLcSASMklsQEfOQIYmDxjx44VXzbaYZUqVWS/7QOuUWJjTA6CvnfccYdkLSaDz6DtouVmkhCSDCYvLk6rhSKoiHdwPmQSWpcpExg3KLcxkALMeSDocOEweYNA2cANS385jt+W2Fd+M9iUoiPV/U7+xCJ/IpTNyGMcuRl5yWDe4+4jcYK4k5v84yedthmjbOvWrZPNznfGLcoiwguLjHBFEHw/VhfJHjwBiCf9VK9e3Xv3ADxZA2GKZwGPQ7b43Zh2s/MMhZHX2SZwKfsJRYCxMDKY8P0SH7EWC8KB7DYGiAsCwJrWmOzc2+Xe38VC6Q/SEqNCmGCe8ygX/Mu2jSD3RzqgbeFWI8EDl0r9+vWlvTPOOEPS7dH8eN9qZbYPCCMmPFogkxArk5TfZOAmwSIio5G2bb+zdSMgvHBNEPOiPRaPCRMmiAVMEgoLACC07A2e3PvFsQSqyUokTpAMjjvnnHPkFgMENotAcbOilfBh8Scjj0Qg4lP++HAQKJW4p1GiFi1alNQySrdtlEZcf2QcX3HFFYn5zrjlpmIUqW7dusmDFIB5ZO8ZZUNYMe+4kZh1BcHi/y7iuvbxdtzcbeeLH3/bNm5s3YFs+uzVoiEUAcaihmkPCC07qBAMVqvB2kmmLaUD34G7gXuWwkwiYGJMmTJFBIG1WPjLfR9kSLmBWPrQpUsXue8KgUTsD3cGbjn6lgyEBzEoji3IOCDXheszceLEHJYSmh4p1GRj0W9gIWDScRsB7pUgENxoppyna4kqBzc2Iy9d6wtQjDieudOqVaukcz3dthEmzEEUMnfesKZwkz3KcqokCY7ncyRxYP0gZPyglCFMw7K+lMLnsLhGpI9TiCAsAmiXBLLzk+CRHxgafA9PMyGQjhBTFEUpLoQaA1MOHog18OQSsr64JQLLWlEUpTihAkzJgY1P4mLkMVW4P0lS0YCzoijFDRVgSiA2DpjskT2KoihFjcbAFEVRlEiiFpiiKIoSSVSAKYqiKBHEmP8PBggmQRcYm7cAAAAASUVORK5CYII=)\n"
      ],
      "metadata": {
        "id": "XPSUU8_tu0R5"
      }
    }
  ]
}